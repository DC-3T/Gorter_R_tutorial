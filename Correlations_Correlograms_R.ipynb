{
 "cells": [
  {
   "cell_type": "markdown",
   "id": "30203cc3",
   "metadata": {
    "slideshow": {
     "slide_type": "slide"
    }
   },
   "source": [
    "# Correlations and Correlograms in R\n",
    "## 1. Introduction\n"
   ]
  },
  {
   "cell_type": "markdown",
   "id": "1938cab2",
   "metadata": {
    "slideshow": {
     "slide_type": "fragment"
    }
   },
   "source": [
    "Correlograms (or correlation matrices) are used to investigate the dependence between multiple variables at the same time. \n",
    "\n",
    "The result is a table containing the correlation coefficients (and p-values) between each variable and the others.\n"
   ]
  },
  {
   "cell_type": "markdown",
   "id": "a948ddf0",
   "metadata": {
    "slideshow": {
     "slide_type": "slide"
    }
   },
   "source": [
    "### 1.1 How to calculate correlation coefficients using the built-in cor() function\n",
    "\n",
    "We first import the built-in *iris* dataframe\n",
    "\n",
    "![Title](img/flower.png)"
   ]
  },
  {
   "cell_type": "code",
   "execution_count": null,
   "id": "b9bbb17f",
   "metadata": {
    "scrolled": true,
    "slideshow": {
     "slide_type": "slide"
    }
   },
   "outputs": [],
   "source": [
    "# Load data \n",
    "data(\"iris\")\n",
    "iris[1:10,]"
   ]
  },
  {
   "cell_type": "markdown",
   "id": "0bd7a351",
   "metadata": {
    "slideshow": {
     "slide_type": "slide"
    }
   },
   "source": [
    "We can calculate the matrix of Pearson's correlation coefficients with one command:"
   ]
  },
  {
   "cell_type": "code",
   "execution_count": null,
   "id": "d53bd3bb",
   "metadata": {
    "slideshow": {
     "slide_type": "fragment"
    }
   },
   "outputs": [],
   "source": [
    "options(warn=-1) \n",
    "cor_matrix<-cor(iris[,1:4]) #default is Pearson's\n",
    "cor_matrix"
   ]
  },
  {
   "cell_type": "markdown",
   "id": "9f11479c",
   "metadata": {
    "slideshow": {
     "slide_type": "slide"
    }
   },
   "source": [
    "Let's calculate p-values, after importing more packages"
   ]
  },
  {
   "cell_type": "code",
   "execution_count": null,
   "id": "acd444d0",
   "metadata": {
    "slideshow": {
     "slide_type": "fragment"
    }
   },
   "outputs": [],
   "source": [
    "library(ggplot2)\n",
    "library(lattice)\n",
    "library(Formula)\n",
    "library(survival)\n",
    "library(Hmisc)\n",
    "\n",
    "options(repr.plot.width=6, repr.plot.height=4.5)\n",
    "cor_matrix_2 <- rcorr(as.matrix(iris[-5]))\n",
    "#cor_matrix_2$r #to visualise the corr coeff\n",
    "cor_matrix_2$P #to visualise the p-value\n",
    "#cor_matrix_2$n #to visualise the corr num of observations"
   ]
  },
  {
   "cell_type": "markdown",
   "id": "4edc07ba",
   "metadata": {
    "slideshow": {
     "slide_type": "slide"
    }
   },
   "source": [
    "### 1.2. Visualize correlations \n",
    "R offers several solutions. \n",
    "Here we show two examples:\n",
    "\n",
    "1. corrplot\n",
    "2. GGally"
   ]
  },
  {
   "cell_type": "markdown",
   "id": "31dcf2ec",
   "metadata": {
    "slideshow": {
     "slide_type": "slide"
    }
   },
   "source": [
    "R package corrplot provides a visual exploratory tool on correlation matrix that supports automatic variable reordering to help detect hidden patterns among variables."
   ]
  },
  {
   "cell_type": "code",
   "execution_count": null,
   "id": "5ebd477c",
   "metadata": {
    "slideshow": {
     "slide_type": "fragment"
    }
   },
   "outputs": [],
   "source": [
    "library(corrplot)  \n",
    "corrplot(cor_matrix_2$r, type=\"upper\", order=\"hclust\", method ='number',diag = FALSE)"
   ]
  },
  {
   "cell_type": "markdown",
   "id": "7aa8defb",
   "metadata": {
    "slideshow": {
     "slide_type": "slide"
    }
   },
   "source": [
    "GGally extends ggplot2 by adding several functions to reduce complexity. Some of these functions include a pairwise plot matrix, a scatterplot plot matrix."
   ]
  },
  {
   "cell_type": "code",
   "execution_count": null,
   "id": "26e76315",
   "metadata": {
    "slideshow": {
     "slide_type": "fragment"
    }
   },
   "outputs": [],
   "source": [
    "library(GGally)\n",
    "\n",
    "ggpairs(iris, aes(colour = Species, alpha = 0.4),\n",
    "        lower=list(combo=wrap(\"facethist\",binwidth=0.3)), upper = list(continuous = wrap(\"cor\", size = 3)))"
   ]
  },
  {
   "cell_type": "markdown",
   "id": "13541d29",
   "metadata": {
    "slideshow": {
     "slide_type": "slide"
    }
   },
   "source": [
    "## 2. Correlation matrices: an example with MRI data "
   ]
  },
  {
   "cell_type": "markdown",
   "id": "3d0101cd",
   "metadata": {
    "slideshow": {
     "slide_type": "fragment"
    }
   },
   "source": [
    "Let's import some real data "
   ]
  },
  {
   "cell_type": "markdown",
   "id": "a1646798",
   "metadata": {
    "slideshow": {
     "slide_type": "fragment"
    }
   },
   "source": [
    "![Title](img/Figure10_SI_HD253.png)"
   ]
  },
  {
   "cell_type": "markdown",
   "id": "7e1f8bb4",
   "metadata": {
    "slideshow": {
     "slide_type": "slide"
    }
   },
   "source": [
    "Import variables for correlation from excel file"
   ]
  },
  {
   "cell_type": "code",
   "execution_count": null,
   "id": "05e2f807",
   "metadata": {
    "slideshow": {
     "slide_type": "fragment"
    }
   },
   "outputs": [],
   "source": [
    "Data<- read.csv('example_HD235.csv', dec = \".\")\n",
    "colnames(Data)[1]= 'Iron' #rename first column\n",
    "\n",
    "head(Data)\n"
   ]
  },
  {
   "cell_type": "code",
   "execution_count": null,
   "id": "7f8d9a8e",
   "metadata": {
    "slideshow": {
     "slide_type": "slide"
    }
   },
   "outputs": [],
   "source": [
    "#Alternatively\n",
    "\n",
    "Data %>% head() "
   ]
  },
  {
   "cell_type": "markdown",
   "id": "0b4421c1",
   "metadata": {
    "slideshow": {
     "slide_type": "slide"
    }
   },
   "source": [
    "Now we display a 'pair-wise' summary of the results with ggpairs"
   ]
  },
  {
   "cell_type": "code",
   "execution_count": null,
   "id": "b8d9bc38",
   "metadata": {
    "scrolled": true,
    "slideshow": {
     "slide_type": "fragment"
    }
   },
   "outputs": [],
   "source": [
    "lowerFn <- function(data, mapping, method = \"lm\", ...) {\n",
    "  p <- ggplot(data = data, mapping = mapping) +\n",
    "    geom_point(colour = \"blue\") +\n",
    "    geom_smooth(method = method, color = \"red\",  formula = y ~ x)\n",
    "  p\n",
    "}\n",
    "ggpairs(\n",
    "  Data, lower = list(continuous = wrap(lowerFn, method = \"lm\")),\n",
    "  diag = list(continuous = wrap(\"barDiag\", colour = \"blue\", binwidth = 20)),\n",
    "  upper = list(continuous = wrap(\"cor\", size = 5))\n",
    ")"
   ]
  },
  {
   "cell_type": "markdown",
   "id": "669a68a4",
   "metadata": {
    "slideshow": {
     "slide_type": "slide"
    }
   },
   "source": [
    "## 2.1 How to costumize correlograms with corrplot()"
   ]
  },
  {
   "cell_type": "code",
   "execution_count": null,
   "id": "0dc44fc6",
   "metadata": {
    "slideshow": {
     "slide_type": "fragment"
    }
   },
   "outputs": [],
   "source": [
    "corr_matrix_pears=rcorr(as.matrix(Data), type = \"pearson\")\n",
    "CP=round(corr_matrix_pears$r,2) #corr coeff values\n",
    "PVP=round(corr_matrix_pears$P,3) #p-values\n",
    "\n",
    "corrplot.mixed(CP,lower='number',upper='ellipse',\n",
    "               lower.col = \"black\", number.cex = .8,\n",
    "               tl.col = \"blue\")"
   ]
  },
  {
   "cell_type": "markdown",
   "id": "a2eb6b16",
   "metadata": {
    "slideshow": {
     "slide_type": "slide"
    }
   },
   "source": [
    "## 3. Print Dependencies\n",
    "Packages and R version used in this tutorial"
   ]
  },
  {
   "cell_type": "code",
   "execution_count": null,
   "id": "29fddbf5",
   "metadata": {
    "slideshow": {
     "slide_type": "fragment"
    }
   },
   "outputs": [],
   "source": [
    "sessionInfo()"
   ]
  },
  {
   "cell_type": "markdown",
   "id": "5238bc74",
   "metadata": {
    "slideshow": {
     "slide_type": "slide"
    }
   },
   "source": [
    "# 4. R courses at the LUMC\n",
    "\n",
    "https://www.albinusnet.nl/weten-en-regelen/onderzoek/research-facilities/courses/\n",
    "- Using R for data analysis"
   ]
  }
 ],
 "metadata": {
  "celltoolbar": "Slideshow",
  "kernelspec": {
   "display_name": "R",
   "language": "R",
   "name": "ir"
  },
  "language_info": {
   "codemirror_mode": "r",
   "file_extension": ".r",
   "mimetype": "text/x-r-source",
   "name": "R",
   "pygments_lexer": "r",
   "version": "3.6.1"
  }
 },
 "nbformat": 4,
 "nbformat_minor": 5
}
