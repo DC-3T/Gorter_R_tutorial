{
 "cells": [
  {
   "cell_type": "markdown",
   "id": "30203cc3",
   "metadata": {
    "slideshow": {
     "slide_type": "slide"
    }
   },
   "source": [
    "# Correlations and Correlograms in R\n",
    "## 1. Introduction\n"
   ]
  },
  {
   "cell_type": "markdown",
   "id": "1938cab2",
   "metadata": {
    "slideshow": {
     "slide_type": "fragment"
    }
   },
   "source": [
    "Correlograms (or correlation matrices) are used to investigate the dependence between multiple variables at the same time. The result is a table containing the correlation coefficients (and p-values) between each variable and the others.\n"
   ]
  },
  {
   "cell_type": "markdown",
   "id": "a948ddf0",
   "metadata": {
    "slideshow": {
     "slide_type": "slide"
    }
   },
   "source": [
    "### 1.1 How to calculate correlation coefficients using the built-in cor() function\n",
    "\n",
    "We first import the built-in *iris* dataframe\n",
    "\n",
    "![Title](img/flower.png)"
   ]
  },
  {
   "cell_type": "code",
   "execution_count": 23,
   "id": "b9bbb17f",
   "metadata": {
    "scrolled": true,
    "slideshow": {
     "slide_type": "slide"
    }
   },
   "outputs": [
    {
     "data": {
      "text/html": [
       "<table>\n",
       "<thead><tr><th scope=col>Sepal.Length</th><th scope=col>Sepal.Width</th><th scope=col>Petal.Length</th><th scope=col>Petal.Width</th><th scope=col>Species</th></tr></thead>\n",
       "<tbody>\n",
       "\t<tr><td>5.1   </td><td>3.5   </td><td>1.4   </td><td>0.2   </td><td>setosa</td></tr>\n",
       "\t<tr><td>4.9   </td><td>3.0   </td><td>1.4   </td><td>0.2   </td><td>setosa</td></tr>\n",
       "\t<tr><td>4.7   </td><td>3.2   </td><td>1.3   </td><td>0.2   </td><td>setosa</td></tr>\n",
       "\t<tr><td>4.6   </td><td>3.1   </td><td>1.5   </td><td>0.2   </td><td>setosa</td></tr>\n",
       "\t<tr><td>5.0   </td><td>3.6   </td><td>1.4   </td><td>0.2   </td><td>setosa</td></tr>\n",
       "\t<tr><td>5.4   </td><td>3.9   </td><td>1.7   </td><td>0.4   </td><td>setosa</td></tr>\n",
       "\t<tr><td>4.6   </td><td>3.4   </td><td>1.4   </td><td>0.3   </td><td>setosa</td></tr>\n",
       "\t<tr><td>5.0   </td><td>3.4   </td><td>1.5   </td><td>0.2   </td><td>setosa</td></tr>\n",
       "\t<tr><td>4.4   </td><td>2.9   </td><td>1.4   </td><td>0.2   </td><td>setosa</td></tr>\n",
       "\t<tr><td>4.9   </td><td>3.1   </td><td>1.5   </td><td>0.1   </td><td>setosa</td></tr>\n",
       "</tbody>\n",
       "</table>\n"
      ],
      "text/latex": [
       "\\begin{tabular}{r|lllll}\n",
       " Sepal.Length & Sepal.Width & Petal.Length & Petal.Width & Species\\\\\n",
       "\\hline\n",
       "\t 5.1    & 3.5    & 1.4    & 0.2    & setosa\\\\\n",
       "\t 4.9    & 3.0    & 1.4    & 0.2    & setosa\\\\\n",
       "\t 4.7    & 3.2    & 1.3    & 0.2    & setosa\\\\\n",
       "\t 4.6    & 3.1    & 1.5    & 0.2    & setosa\\\\\n",
       "\t 5.0    & 3.6    & 1.4    & 0.2    & setosa\\\\\n",
       "\t 5.4    & 3.9    & 1.7    & 0.4    & setosa\\\\\n",
       "\t 4.6    & 3.4    & 1.4    & 0.3    & setosa\\\\\n",
       "\t 5.0    & 3.4    & 1.5    & 0.2    & setosa\\\\\n",
       "\t 4.4    & 2.9    & 1.4    & 0.2    & setosa\\\\\n",
       "\t 4.9    & 3.1    & 1.5    & 0.1    & setosa\\\\\n",
       "\\end{tabular}\n"
      ],
      "text/markdown": [
       "\n",
       "| Sepal.Length | Sepal.Width | Petal.Length | Petal.Width | Species |\n",
       "|---|---|---|---|---|\n",
       "| 5.1    | 3.5    | 1.4    | 0.2    | setosa |\n",
       "| 4.9    | 3.0    | 1.4    | 0.2    | setosa |\n",
       "| 4.7    | 3.2    | 1.3    | 0.2    | setosa |\n",
       "| 4.6    | 3.1    | 1.5    | 0.2    | setosa |\n",
       "| 5.0    | 3.6    | 1.4    | 0.2    | setosa |\n",
       "| 5.4    | 3.9    | 1.7    | 0.4    | setosa |\n",
       "| 4.6    | 3.4    | 1.4    | 0.3    | setosa |\n",
       "| 5.0    | 3.4    | 1.5    | 0.2    | setosa |\n",
       "| 4.4    | 2.9    | 1.4    | 0.2    | setosa |\n",
       "| 4.9    | 3.1    | 1.5    | 0.1    | setosa |\n",
       "\n"
      ],
      "text/plain": [
       "   Sepal.Length Sepal.Width Petal.Length Petal.Width Species\n",
       "1  5.1          3.5         1.4          0.2         setosa \n",
       "2  4.9          3.0         1.4          0.2         setosa \n",
       "3  4.7          3.2         1.3          0.2         setosa \n",
       "4  4.6          3.1         1.5          0.2         setosa \n",
       "5  5.0          3.6         1.4          0.2         setosa \n",
       "6  5.4          3.9         1.7          0.4         setosa \n",
       "7  4.6          3.4         1.4          0.3         setosa \n",
       "8  5.0          3.4         1.5          0.2         setosa \n",
       "9  4.4          2.9         1.4          0.2         setosa \n",
       "10 4.9          3.1         1.5          0.1         setosa "
      ]
     },
     "metadata": {},
     "output_type": "display_data"
    }
   ],
   "source": [
    "# Load data \n",
    "\n",
    "data(\"iris\")\n",
    "iris[1:10,]"
   ]
  },
  {
   "cell_type": "markdown",
   "id": "0bd7a351",
   "metadata": {
    "slideshow": {
     "slide_type": "slide"
    }
   },
   "source": [
    "We can calculate the matrix of Pearson's correlation coefficients with one command:"
   ]
  },
  {
   "cell_type": "code",
   "execution_count": 24,
   "id": "d53bd3bb",
   "metadata": {
    "slideshow": {
     "slide_type": "fragment"
    }
   },
   "outputs": [
    {
     "data": {
      "text/html": [
       "<table>\n",
       "<thead><tr><th></th><th scope=col>Sepal.Length</th><th scope=col>Sepal.Width</th><th scope=col>Petal.Length</th><th scope=col>Petal.Width</th></tr></thead>\n",
       "<tbody>\n",
       "\t<tr><th scope=row>Sepal.Length</th><td> 1.0000000</td><td>-0.1175698</td><td> 0.8717538</td><td> 0.8179411</td></tr>\n",
       "\t<tr><th scope=row>Sepal.Width</th><td>-0.1175698</td><td> 1.0000000</td><td>-0.4284401</td><td>-0.3661259</td></tr>\n",
       "\t<tr><th scope=row>Petal.Length</th><td> 0.8717538</td><td>-0.4284401</td><td> 1.0000000</td><td> 0.9628654</td></tr>\n",
       "\t<tr><th scope=row>Petal.Width</th><td> 0.8179411</td><td>-0.3661259</td><td> 0.9628654</td><td> 1.0000000</td></tr>\n",
       "</tbody>\n",
       "</table>\n"
      ],
      "text/latex": [
       "\\begin{tabular}{r|llll}\n",
       "  & Sepal.Length & Sepal.Width & Petal.Length & Petal.Width\\\\\n",
       "\\hline\n",
       "\tSepal.Length &  1.0000000 & -0.1175698 &  0.8717538 &  0.8179411\\\\\n",
       "\tSepal.Width & -0.1175698 &  1.0000000 & -0.4284401 & -0.3661259\\\\\n",
       "\tPetal.Length &  0.8717538 & -0.4284401 &  1.0000000 &  0.9628654\\\\\n",
       "\tPetal.Width &  0.8179411 & -0.3661259 &  0.9628654 &  1.0000000\\\\\n",
       "\\end{tabular}\n"
      ],
      "text/markdown": [
       "\n",
       "| <!--/--> | Sepal.Length | Sepal.Width | Petal.Length | Petal.Width |\n",
       "|---|---|---|---|---|\n",
       "| Sepal.Length |  1.0000000 | -0.1175698 |  0.8717538 |  0.8179411 |\n",
       "| Sepal.Width | -0.1175698 |  1.0000000 | -0.4284401 | -0.3661259 |\n",
       "| Petal.Length |  0.8717538 | -0.4284401 |  1.0000000 |  0.9628654 |\n",
       "| Petal.Width |  0.8179411 | -0.3661259 |  0.9628654 |  1.0000000 |\n",
       "\n"
      ],
      "text/plain": [
       "             Sepal.Length Sepal.Width Petal.Length Petal.Width\n",
       "Sepal.Length  1.0000000   -0.1175698   0.8717538    0.8179411 \n",
       "Sepal.Width  -0.1175698    1.0000000  -0.4284401   -0.3661259 \n",
       "Petal.Length  0.8717538   -0.4284401   1.0000000    0.9628654 \n",
       "Petal.Width   0.8179411   -0.3661259   0.9628654    1.0000000 "
      ]
     },
     "metadata": {},
     "output_type": "display_data"
    }
   ],
   "source": [
    "options(warn=-1) \n",
    "cor_matrix<-cor(iris[,1:4]) #default is pearson\n",
    "cor_matrix"
   ]
  },
  {
   "cell_type": "markdown",
   "id": "9f11479c",
   "metadata": {
    "slideshow": {
     "slide_type": "slide"
    }
   },
   "source": [
    "Let's calculate p-values, after importing more packages"
   ]
  },
  {
   "cell_type": "code",
   "execution_count": 25,
   "id": "acd444d0",
   "metadata": {
    "slideshow": {
     "slide_type": "fragment"
    }
   },
   "outputs": [
    {
     "data": {
      "text/html": [
       "<table>\n",
       "<thead><tr><th></th><th scope=col>Sepal.Length</th><th scope=col>Sepal.Width</th><th scope=col>Petal.Length</th><th scope=col>Petal.Width</th></tr></thead>\n",
       "<tbody>\n",
       "\t<tr><th scope=row>Sepal.Length</th><td> 1.0000000</td><td>-0.1175698</td><td> 0.8717538</td><td> 0.8179411</td></tr>\n",
       "\t<tr><th scope=row>Sepal.Width</th><td>-0.1175698</td><td> 1.0000000</td><td>-0.4284401</td><td>-0.3661259</td></tr>\n",
       "\t<tr><th scope=row>Petal.Length</th><td> 0.8717538</td><td>-0.4284401</td><td> 1.0000000</td><td> 0.9628654</td></tr>\n",
       "\t<tr><th scope=row>Petal.Width</th><td> 0.8179411</td><td>-0.3661259</td><td> 0.9628654</td><td> 1.0000000</td></tr>\n",
       "</tbody>\n",
       "</table>\n"
      ],
      "text/latex": [
       "\\begin{tabular}{r|llll}\n",
       "  & Sepal.Length & Sepal.Width & Petal.Length & Petal.Width\\\\\n",
       "\\hline\n",
       "\tSepal.Length &  1.0000000 & -0.1175698 &  0.8717538 &  0.8179411\\\\\n",
       "\tSepal.Width & -0.1175698 &  1.0000000 & -0.4284401 & -0.3661259\\\\\n",
       "\tPetal.Length &  0.8717538 & -0.4284401 &  1.0000000 &  0.9628654\\\\\n",
       "\tPetal.Width &  0.8179411 & -0.3661259 &  0.9628654 &  1.0000000\\\\\n",
       "\\end{tabular}\n"
      ],
      "text/markdown": [
       "\n",
       "| <!--/--> | Sepal.Length | Sepal.Width | Petal.Length | Petal.Width |\n",
       "|---|---|---|---|---|\n",
       "| Sepal.Length |  1.0000000 | -0.1175698 |  0.8717538 |  0.8179411 |\n",
       "| Sepal.Width | -0.1175698 |  1.0000000 | -0.4284401 | -0.3661259 |\n",
       "| Petal.Length |  0.8717538 | -0.4284401 |  1.0000000 |  0.9628654 |\n",
       "| Petal.Width |  0.8179411 | -0.3661259 |  0.9628654 |  1.0000000 |\n",
       "\n"
      ],
      "text/plain": [
       "             Sepal.Length Sepal.Width Petal.Length Petal.Width\n",
       "Sepal.Length  1.0000000   -0.1175698   0.8717538    0.8179411 \n",
       "Sepal.Width  -0.1175698    1.0000000  -0.4284401   -0.3661259 \n",
       "Petal.Length  0.8717538   -0.4284401   1.0000000    0.9628654 \n",
       "Petal.Width   0.8179411   -0.3661259   0.9628654    1.0000000 "
      ]
     },
     "metadata": {},
     "output_type": "display_data"
    },
    {
     "data": {
      "text/html": [
       "<table>\n",
       "<thead><tr><th></th><th scope=col>Sepal.Length</th><th scope=col>Sepal.Width</th><th scope=col>Petal.Length</th><th scope=col>Petal.Width</th></tr></thead>\n",
       "<tbody>\n",
       "\t<tr><th scope=row>Sepal.Length</th><td>       NA   </td><td>1.518983e-01</td><td>0.000000e+00</td><td>0.000000e+00</td></tr>\n",
       "\t<tr><th scope=row>Sepal.Width</th><td>0.1518983   </td><td>          NA</td><td>4.513314e-08</td><td>4.073229e-06</td></tr>\n",
       "\t<tr><th scope=row>Petal.Length</th><td>0.0000000   </td><td>4.513314e-08</td><td>          NA</td><td>0.000000e+00</td></tr>\n",
       "\t<tr><th scope=row>Petal.Width</th><td>0.0000000   </td><td>4.073229e-06</td><td>0.000000e+00</td><td>          NA</td></tr>\n",
       "</tbody>\n",
       "</table>\n"
      ],
      "text/latex": [
       "\\begin{tabular}{r|llll}\n",
       "  & Sepal.Length & Sepal.Width & Petal.Length & Petal.Width\\\\\n",
       "\\hline\n",
       "\tSepal.Length &        NA    & 1.518983e-01 & 0.000000e+00 & 0.000000e+00\\\\\n",
       "\tSepal.Width & 0.1518983    &           NA & 4.513314e-08 & 4.073229e-06\\\\\n",
       "\tPetal.Length & 0.0000000    & 4.513314e-08 &           NA & 0.000000e+00\\\\\n",
       "\tPetal.Width & 0.0000000    & 4.073229e-06 & 0.000000e+00 &           NA\\\\\n",
       "\\end{tabular}\n"
      ],
      "text/markdown": [
       "\n",
       "| <!--/--> | Sepal.Length | Sepal.Width | Petal.Length | Petal.Width |\n",
       "|---|---|---|---|---|\n",
       "| Sepal.Length |        NA    | 1.518983e-01 | 0.000000e+00 | 0.000000e+00 |\n",
       "| Sepal.Width | 0.1518983    |           NA | 4.513314e-08 | 4.073229e-06 |\n",
       "| Petal.Length | 0.0000000    | 4.513314e-08 |           NA | 0.000000e+00 |\n",
       "| Petal.Width | 0.0000000    | 4.073229e-06 | 0.000000e+00 |           NA |\n",
       "\n"
      ],
      "text/plain": [
       "             Sepal.Length Sepal.Width  Petal.Length Petal.Width \n",
       "Sepal.Length        NA    1.518983e-01 0.000000e+00 0.000000e+00\n",
       "Sepal.Width  0.1518983              NA 4.513314e-08 4.073229e-06\n",
       "Petal.Length 0.0000000    4.513314e-08           NA 0.000000e+00\n",
       "Petal.Width  0.0000000    4.073229e-06 0.000000e+00           NA"
      ]
     },
     "metadata": {},
     "output_type": "display_data"
    }
   ],
   "source": [
    "library(ggplot2)\n",
    "library(Hmisc)\n",
    "library(lattice)\n",
    "library(Formula)\n",
    "library(survival)\n",
    "\n",
    "options(repr.plot.width=6, repr.plot.height=4.5)\n",
    "cor_matrix_2 <- rcorr(as.matrix(iris[-5]))\n",
    "cor_matrix_2$r #to visualise the corr coeff\n",
    "cor_matrix_2$P #to visualise the p-value\n",
    "#cor_matrix_2$n #to visualise the corr num of observations"
   ]
  },
  {
   "cell_type": "markdown",
   "id": "4edc07ba",
   "metadata": {
    "slideshow": {
     "slide_type": "slide"
    }
   },
   "source": [
    "### 1.2. Visualize correlations \n",
    "R offers several solutions. \n",
    "Here we show two examples:\n",
    "\n",
    "1. corrplot\n",
    "2. GGally"
   ]
  },
  {
   "cell_type": "code",
   "execution_count": 26,
   "id": "5ebd477c",
   "metadata": {
    "slideshow": {
     "slide_type": "slide"
    }
   },
   "outputs": [
    {
     "data": {
      "image/png": "[encoded data removed]",
      "text/plain": [
       "Plot with title \"\""
      ]
     },
     "metadata": {},
     "output_type": "display_data"
    }
   ],
   "source": [
    "library(corrplot)\n",
    "\n",
    "corrplot(cor_matrix_2$r, type=\"upper\", order=\"hclust\")"
   ]
  },
  {
   "cell_type": "code",
   "execution_count": 27,
   "id": "26e76315",
   "metadata": {
    "slideshow": {
     "slide_type": "slide"
    }
   },
   "outputs": [
    {
     "data": {
      "image/png": "[encoded data removed]",
      "text/plain": [
       "plot without title"
      ]
     },
     "metadata": {},
     "output_type": "display_data"
    }
   ],
   "source": [
    "library(GGally)\n",
    "\n",
    "ggpairs(iris, aes(colour = Species, alpha = 0.4),lower=list(combo=wrap(\"facethist\",  \n",
    "binwidth=0.5)))"
   ]
  },
  {
   "cell_type": "markdown",
   "id": "13541d29",
   "metadata": {
    "slideshow": {
     "slide_type": "slide"
    }
   },
   "source": [
    "## 2. Correlation matrices: an example with MRI data "
   ]
  },
  {
   "cell_type": "markdown",
   "id": "3d0101cd",
   "metadata": {
    "slideshow": {
     "slide_type": "fragment"
    }
   },
   "source": [
    "Let's import some real data "
   ]
  },
  {
   "cell_type": "markdown",
   "id": "a1646798",
   "metadata": {
    "slideshow": {
     "slide_type": "fragment"
    }
   },
   "source": [
    "![Title](img/Figure10_SI_HD253.png)"
   ]
  },
  {
   "cell_type": "code",
   "execution_count": 34,
   "id": "05e2f807",
   "metadata": {
    "slideshow": {
     "slide_type": "slide"
    }
   },
   "outputs": [
    {
     "data": {
      "text/html": [
       "<table>\n",
       "<thead><tr><th scope=col>Iron</th><th scope=col>ORS</th><th scope=col>QSM</th><th scope=col>R2star</th><th scope=col>Ferritin</th><th scope=col>Myelin</th></tr></thead>\n",
       "<tbody>\n",
       "\t<tr><td>120.59 </td><td> 58.587</td><td> 70.375</td><td> 92.048</td><td>10.471 </td><td>46.067 </td></tr>\n",
       "\t<tr><td>124.01 </td><td> 93.875</td><td> 64.962</td><td>106.221</td><td>15.135 </td><td>48.365 </td></tr>\n",
       "\t<tr><td>137.97 </td><td>122.154</td><td> 82.615</td><td>125.788</td><td>11.433 </td><td>59.471 </td></tr>\n",
       "\t<tr><td>124.85 </td><td>156.596</td><td> 33.269</td><td>132.981</td><td>13.010 </td><td>71.115 </td></tr>\n",
       "\t<tr><td>120.43 </td><td>154.279</td><td> 20.067</td><td>134.442</td><td>13.058 </td><td>62.125 </td></tr>\n",
       "\t<tr><td> 12.90 </td><td>  6.327</td><td>-28.394</td><td>114.337</td><td> 2.962 </td><td>83.058 </td></tr>\n",
       "</tbody>\n",
       "</table>\n"
      ],
      "text/latex": [
       "\\begin{tabular}{r|llllll}\n",
       " Iron & ORS & QSM & R2star & Ferritin & Myelin\\\\\n",
       "\\hline\n",
       "\t 120.59  &  58.587 &  70.375 &  92.048 & 10.471  & 46.067 \\\\\n",
       "\t 124.01  &  93.875 &  64.962 & 106.221 & 15.135  & 48.365 \\\\\n",
       "\t 137.97  & 122.154 &  82.615 & 125.788 & 11.433  & 59.471 \\\\\n",
       "\t 124.85  & 156.596 &  33.269 & 132.981 & 13.010  & 71.115 \\\\\n",
       "\t 120.43  & 154.279 &  20.067 & 134.442 & 13.058  & 62.125 \\\\\n",
       "\t  12.90  &   6.327 & -28.394 & 114.337 &  2.962  & 83.058 \\\\\n",
       "\\end{tabular}\n"
      ],
      "text/markdown": [
       "\n",
       "| Iron | ORS | QSM | R2star | Ferritin | Myelin |\n",
       "|---|---|---|---|---|---|\n",
       "| 120.59  |  58.587 |  70.375 |  92.048 | 10.471  | 46.067  |\n",
       "| 124.01  |  93.875 |  64.962 | 106.221 | 15.135  | 48.365  |\n",
       "| 137.97  | 122.154 |  82.615 | 125.788 | 11.433  | 59.471  |\n",
       "| 124.85  | 156.596 |  33.269 | 132.981 | 13.010  | 71.115  |\n",
       "| 120.43  | 154.279 |  20.067 | 134.442 | 13.058  | 62.125  |\n",
       "|  12.90  |   6.327 | -28.394 | 114.337 |  2.962  | 83.058  |\n",
       "\n"
      ],
      "text/plain": [
       "  Iron   ORS     QSM     R2star  Ferritin Myelin\n",
       "1 120.59  58.587  70.375  92.048 10.471   46.067\n",
       "2 124.01  93.875  64.962 106.221 15.135   48.365\n",
       "3 137.97 122.154  82.615 125.788 11.433   59.471\n",
       "4 124.85 156.596  33.269 132.981 13.010   71.115\n",
       "5 120.43 154.279  20.067 134.442 13.058   62.125\n",
       "6  12.90   6.327 -28.394 114.337  2.962   83.058"
      ]
     },
     "metadata": {},
     "output_type": "display_data"
    }
   ],
   "source": [
    "#import variables for correlation from excel file\n",
    "\n",
    "Data<- read.csv('example_HD235.csv', dec = \".\")\n",
    "colnames(Data)[1]= 'Iron' #rename first column\n",
    "\n",
    "head(Data)\n"
   ]
  },
  {
   "cell_type": "code",
   "execution_count": 29,
   "id": "7f8d9a8e",
   "metadata": {
    "slideshow": {
     "slide_type": "slide"
    }
   },
   "outputs": [
    {
     "data": {
      "text/html": [
       "<table>\n",
       "<thead><tr><th scope=col>Iron</th><th scope=col>ORS</th><th scope=col>QSM</th><th scope=col>R2star</th><th scope=col>Ferritin</th><th scope=col>Myelin</th></tr></thead>\n",
       "<tbody>\n",
       "\t<tr><td>120.59 </td><td> 58.587</td><td> 70.375</td><td> 92.048</td><td>10.471 </td><td>46.067 </td></tr>\n",
       "\t<tr><td>124.01 </td><td> 93.875</td><td> 64.962</td><td>106.221</td><td>15.135 </td><td>48.365 </td></tr>\n",
       "\t<tr><td>137.97 </td><td>122.154</td><td> 82.615</td><td>125.788</td><td>11.433 </td><td>59.471 </td></tr>\n",
       "\t<tr><td>124.85 </td><td>156.596</td><td> 33.269</td><td>132.981</td><td>13.010 </td><td>71.115 </td></tr>\n",
       "\t<tr><td>120.43 </td><td>154.279</td><td> 20.067</td><td>134.442</td><td>13.058 </td><td>62.125 </td></tr>\n",
       "\t<tr><td> 12.90 </td><td>  6.327</td><td>-28.394</td><td>114.337</td><td> 2.962 </td><td>83.058 </td></tr>\n",
       "</tbody>\n",
       "</table>\n"
      ],
      "text/latex": [
       "\\begin{tabular}{r|llllll}\n",
       " Iron & ORS & QSM & R2star & Ferritin & Myelin\\\\\n",
       "\\hline\n",
       "\t 120.59  &  58.587 &  70.375 &  92.048 & 10.471  & 46.067 \\\\\n",
       "\t 124.01  &  93.875 &  64.962 & 106.221 & 15.135  & 48.365 \\\\\n",
       "\t 137.97  & 122.154 &  82.615 & 125.788 & 11.433  & 59.471 \\\\\n",
       "\t 124.85  & 156.596 &  33.269 & 132.981 & 13.010  & 71.115 \\\\\n",
       "\t 120.43  & 154.279 &  20.067 & 134.442 & 13.058  & 62.125 \\\\\n",
       "\t  12.90  &   6.327 & -28.394 & 114.337 &  2.962  & 83.058 \\\\\n",
       "\\end{tabular}\n"
      ],
      "text/markdown": [
       "\n",
       "| Iron | ORS | QSM | R2star | Ferritin | Myelin |\n",
       "|---|---|---|---|---|---|\n",
       "| 120.59  |  58.587 |  70.375 |  92.048 | 10.471  | 46.067  |\n",
       "| 124.01  |  93.875 |  64.962 | 106.221 | 15.135  | 48.365  |\n",
       "| 137.97  | 122.154 |  82.615 | 125.788 | 11.433  | 59.471  |\n",
       "| 124.85  | 156.596 |  33.269 | 132.981 | 13.010  | 71.115  |\n",
       "| 120.43  | 154.279 |  20.067 | 134.442 | 13.058  | 62.125  |\n",
       "|  12.90  |   6.327 | -28.394 | 114.337 |  2.962  | 83.058  |\n",
       "\n"
      ],
      "text/plain": [
       "  Iron   ORS     QSM     R2star  Ferritin Myelin\n",
       "1 120.59  58.587  70.375  92.048 10.471   46.067\n",
       "2 124.01  93.875  64.962 106.221 15.135   48.365\n",
       "3 137.97 122.154  82.615 125.788 11.433   59.471\n",
       "4 124.85 156.596  33.269 132.981 13.010   71.115\n",
       "5 120.43 154.279  20.067 134.442 13.058   62.125\n",
       "6  12.90   6.327 -28.394 114.337  2.962   83.058"
      ]
     },
     "metadata": {},
     "output_type": "display_data"
    }
   ],
   "source": [
    "#Alternatively\n",
    "\n",
    "Data %>% head() "
   ]
  },
  {
   "cell_type": "markdown",
   "id": "0b4421c1",
   "metadata": {
    "slideshow": {
     "slide_type": "slide"
    }
   },
   "source": [
    "Now we display a 'pair-wise' summary of the results with ggpairs"
   ]
  },
  {
   "cell_type": "code",
   "execution_count": 38,
   "id": "b8d9bc38",
   "metadata": {
    "scrolled": true,
    "slideshow": {
     "slide_type": "fragment"
    }
   },
   "outputs": [
    {
     "data": {
      "image/png": "[encoded data removed]",
      "text/plain": [
       "plot without title"
      ]
     },
     "metadata": {},
     "output_type": "display_data"
    }
   ],
   "source": [
    "lowerFn <- function(data, mapping, method = \"lm\", ...) {\n",
    "  p <- ggplot(data = data, mapping = mapping) +\n",
    "    geom_point(colour = \"blue\") +\n",
    "    geom_smooth(method = method, color = \"red\",  formula = y ~ x)\n",
    "  p\n",
    "}\n",
    "ggpairs(\n",
    "  Data[, 1:6], lower = list(continuous = wrap(lowerFn, method = \"lm\")),\n",
    "  diag = list(continuous = wrap(\"barDiag\", colour = \"blue\", binwidth = 25)),\n",
    "  upper = list(continuous = wrap(\"cor\", size = 5))\n",
    ")"
   ]
  },
  {
   "cell_type": "markdown",
   "id": "669a68a4",
   "metadata": {
    "slideshow": {
     "slide_type": "slide"
    }
   },
   "source": [
    "## 2.1 How to costumize correlograms with corrplot()"
   ]
  },
  {
   "cell_type": "code",
   "execution_count": 39,
   "id": "0dc44fc6",
   "metadata": {
    "slideshow": {
     "slide_type": "fragment"
    }
   },
   "outputs": [
    {
     "data": {
      "image/png": "[encoded data removed]",
      "text/plain": [
       "Plot with title \"\""
      ]
     },
     "metadata": {},
     "output_type": "display_data"
    }
   ],
   "source": [
    "corr_matrix_pears=rcorr(as.matrix(Data), type = \"pearson\")\n",
    "CP=round(corr_matrix_pears$r,2) #corr coeff values\n",
    "PVP=round(corr_matrix_pears$P,3) #p-values\n",
    "\n",
    "corrplot.mixed(CP,lower='number',upper='ellipse',\n",
    "               lower.col = \"black\", number.cex = .8,\n",
    "               tl.col = \"blue\")\n",
    "             \n",
    "\n"
   ]
  },
  {
   "cell_type": "markdown",
   "id": "85b51058",
   "metadata": {
    "slideshow": {
     "slide_type": "slide"
    }
   },
   "source": [
    "Table of p-values"
   ]
  },
  {
   "cell_type": "code",
   "execution_count": 32,
   "id": "6ce50a9a",
   "metadata": {
    "slideshow": {
     "slide_type": "fragment"
    }
   },
   "outputs": [
    {
     "data": {
      "text/html": [
       "<table>\n",
       "<thead><tr><th></th><th scope=col>Iron</th><th scope=col>ORS</th><th scope=col>QSM</th><th scope=col>R2star</th><th scope=col>Ferritin</th><th scope=col>Myelin</th></tr></thead>\n",
       "<tbody>\n",
       "\t<tr><th scope=row>Iron</th><td>   NA</td><td>0.000</td><td>0.000</td><td>0.000</td><td>0.008</td><td>0.084</td></tr>\n",
       "\t<tr><th scope=row>ORS</th><td>0.000</td><td>   NA</td><td>0.003</td><td>0.000</td><td>0.391</td><td>0.100</td></tr>\n",
       "\t<tr><th scope=row>QSM</th><td>0.000</td><td>0.003</td><td>   NA</td><td>0.405</td><td>0.045</td><td>0.007</td></tr>\n",
       "\t<tr><th scope=row>R2star</th><td>0.000</td><td>0.000</td><td>0.405</td><td>   NA</td><td>0.112</td><td>0.979</td></tr>\n",
       "\t<tr><th scope=row>Ferritin</th><td>0.008</td><td>0.391</td><td>0.045</td><td>0.112</td><td>   NA</td><td>0.558</td></tr>\n",
       "\t<tr><th scope=row>Myelin</th><td>0.084</td><td>0.100</td><td>0.007</td><td>0.979</td><td>0.558</td><td>   NA</td></tr>\n",
       "</tbody>\n",
       "</table>\n"
      ],
      "text/latex": [
       "\\begin{tabular}{r|llllll}\n",
       "  & Iron & ORS & QSM & R2star & Ferritin & Myelin\\\\\n",
       "\\hline\n",
       "\tIron &    NA & 0.000 & 0.000 & 0.000 & 0.008 & 0.084\\\\\n",
       "\tORS & 0.000 &    NA & 0.003 & 0.000 & 0.391 & 0.100\\\\\n",
       "\tQSM & 0.000 & 0.003 &    NA & 0.405 & 0.045 & 0.007\\\\\n",
       "\tR2star & 0.000 & 0.000 & 0.405 &    NA & 0.112 & 0.979\\\\\n",
       "\tFerritin & 0.008 & 0.391 & 0.045 & 0.112 &    NA & 0.558\\\\\n",
       "\tMyelin & 0.084 & 0.100 & 0.007 & 0.979 & 0.558 &    NA\\\\\n",
       "\\end{tabular}\n"
      ],
      "text/markdown": [
       "\n",
       "| <!--/--> | Iron | ORS | QSM | R2star | Ferritin | Myelin |\n",
       "|---|---|---|---|---|---|---|\n",
       "| Iron |    NA | 0.000 | 0.000 | 0.000 | 0.008 | 0.084 |\n",
       "| ORS | 0.000 |    NA | 0.003 | 0.000 | 0.391 | 0.100 |\n",
       "| QSM | 0.000 | 0.003 |    NA | 0.405 | 0.045 | 0.007 |\n",
       "| R2star | 0.000 | 0.000 | 0.405 |    NA | 0.112 | 0.979 |\n",
       "| Ferritin | 0.008 | 0.391 | 0.045 | 0.112 |    NA | 0.558 |\n",
       "| Myelin | 0.084 | 0.100 | 0.007 | 0.979 | 0.558 |    NA |\n",
       "\n"
      ],
      "text/plain": [
       "         Iron  ORS   QSM   R2star Ferritin Myelin\n",
       "Iron        NA 0.000 0.000 0.000  0.008    0.084 \n",
       "ORS      0.000    NA 0.003 0.000  0.391    0.100 \n",
       "QSM      0.000 0.003    NA 0.405  0.045    0.007 \n",
       "R2star   0.000 0.000 0.405    NA  0.112    0.979 \n",
       "Ferritin 0.008 0.391 0.045 0.112     NA    0.558 \n",
       "Myelin   0.084 0.100 0.007 0.979  0.558       NA "
      ]
     },
     "metadata": {},
     "output_type": "display_data"
    }
   ],
   "source": [
    "PVP"
   ]
  },
  {
   "cell_type": "markdown",
   "id": "a2eb6b16",
   "metadata": {
    "slideshow": {
     "slide_type": "slide"
    }
   },
   "source": [
    "## 3. Print Dependences\n",
    "Packages and R version used in this tutorial"
   ]
  },
  {
   "cell_type": "code",
   "execution_count": 33,
   "id": "29fddbf5",
   "metadata": {
    "slideshow": {
     "slide_type": "fragment"
    }
   },
   "outputs": [
    {
     "data": {
      "text/plain": [
       "R version 3.6.1 (2019-07-05)\n",
       "Platform: x86_64-w64-mingw32/x64 (64-bit)\n",
       "Running under: Windows 10 x64 (build 18363)\n",
       "\n",
       "Matrix products: default\n",
       "\n",
       "locale:\n",
       "[1] LC_COLLATE=Dutch_Netherlands.1252  LC_CTYPE=Dutch_Netherlands.1252   \n",
       "[3] LC_MONETARY=Dutch_Netherlands.1252 LC_NUMERIC=C                      \n",
       "[5] LC_TIME=Dutch_Netherlands.1252    \n",
       "\n",
       "attached base packages:\n",
       "[1] stats     graphics  grDevices utils     datasets  methods   base     \n",
       "\n",
       "other attached packages:\n",
       "[1] GGally_2.1.2    Hmisc_4.5-0     Formula_1.2-4   survival_3.2-11\n",
       "[5] lattice_0.20-38 ggplot2_3.3.5   corrplot_0.90  \n",
       "\n",
       "loaded via a namespace (and not attached):\n",
       " [1] Rcpp_1.0.1          png_0.1-7           digest_0.6.18      \n",
       " [4] utf8_1.1.4          IRdisplay_0.7.0     R6_2.4.0           \n",
       " [7] plyr_1.8.4          repr_0.19.2         backports_1.1.4    \n",
       "[10] evaluate_0.13       pillar_1.6.2        rlang_0.4.11       \n",
       "[13] uuid_0.1-2          rstudioapi_0.10     data.table_1.12.2  \n",
       "[16] rpart_4.1-15        Matrix_1.2-17       checkmate_2.0.0    \n",
       "[19] labeling_0.3        splines_3.6.1       stringr_1.4.0      \n",
       "[22] foreign_0.8-71      htmlwidgets_1.3     munsell_0.5.0      \n",
       "[25] compiler_3.6.1      xfun_0.6            pkgconfig_2.0.2    \n",
       "[28] base64enc_0.1-3     mgcv_1.8-28         htmltools_0.3.6    \n",
       "[31] nnet_7.3-12         tidyselect_1.1.1    tibble_3.1.1       \n",
       "[34] gridExtra_2.3       htmlTable_2.2.1     reshape_0.8.8      \n",
       "[37] fansi_0.4.0         crayon_1.3.4        dplyr_1.0.6        \n",
       "[40] withr_2.1.2         grid_3.6.1          nlme_3.1-139       \n",
       "[43] jsonlite_1.6        gtable_0.3.0        lifecycle_1.0.0    \n",
       "[46] DBI_1.0.0           magrittr_1.5        scales_1.1.1       \n",
       "[49] stringi_1.4.3       farver_2.1.0        latticeExtra_0.6-29\n",
       "[52] ellipsis_0.3.2      generics_0.0.2      vctrs_0.3.8        \n",
       "[55] IRkernel_0.8.15     RColorBrewer_1.1-2  tools_3.6.1        \n",
       "[58] glue_1.4.2          purrr_0.3.2         jpeg_0.1-8.1       \n",
       "[61] colorspace_1.4-1    cluster_2.0.8       pbdZMQ_0.3-3       \n",
       "[64] knitr_1.22         "
      ]
     },
     "metadata": {},
     "output_type": "display_data"
    }
   ],
   "source": [
    "sessionInfo()"
   ]
  },
  {
   "cell_type": "markdown",
   "id": "5238bc74",
   "metadata": {
    "slideshow": {
     "slide_type": "slide"
    }
   },
   "source": [
    "# 4. R courses at the LUMC\n",
    "\n",
    "https://www.albinusnet.nl/weten-en-regelen/onderzoek/research-facilities/courses/\n",
    "- Using R for data analysis"
   ]
  }
 ],
 "metadata": {
  "celltoolbar": "Slideshow",
  "kernelspec": {
   "display_name": "R",
   "language": "R",
   "name": "ir"
  },
  "language_info": {
   "codemirror_mode": "r",
   "file_extension": ".r",
   "mimetype": "text/x-r-source",
   "name": "R",
   "pygments_lexer": "r",
   "version": "3.6.1"
  }
 },
 "nbformat": 4,
 "nbformat_minor": 5
}
