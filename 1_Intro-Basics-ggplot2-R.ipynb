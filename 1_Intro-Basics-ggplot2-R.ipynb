{
 "cells": [
  {
   "cell_type": "markdown",
   "id": "ac8aca5c",
   "metadata": {
    "slideshow": {
     "slide_type": "slide"
    }
   },
   "source": [
    "# The A to Z of R \n",
    "## From basic commands to beautiful plots with ggplot"
   ]
  },
  {
   "cell_type": "markdown",
   "id": "60b1ba6e",
   "metadata": {
    "slideshow": {
     "slide_type": "slide"
    }
   },
   "source": [
    "# Introduction\n",
    "\n",
    "## The aim of this presentation is to introduce you to the basics of the R programming language. We will cover:\n",
    "\n",
    "## *The basics of R - assigning variables, creating dataframes, simple functions;*\n",
    "\n",
    "## *The 'grammar of graphics' - beautiful plots created with ggplot2; and*\n",
    "\n",
    "## *Correlations and correlograms*"
   ]
  },
  {
   "cell_type": "markdown",
   "id": "70ce9216",
   "metadata": {
    "slideshow": {
     "slide_type": "slide"
    }
   },
   "source": [
    "# **The R 'starter kit'**\n",
    "\n",
    "## What you will need:\n",
    "\n",
    "## A version of R, downloaded from https://cran.r-project.org/; and\n",
    "\n",
    "## An IDE - RStudio is recommended, but platforms such as PyCharm and Atom also support R. You can also create R environments with Anaconda\n",
    "\n",
    "## *Optional extras:* Tools like Shiny allow building of webapps, while Markdown offers an attractive notebook interface "
   ]
  },
  {
   "cell_type": "code",
   "execution_count": null,
   "id": "62cdd4ed",
   "metadata": {
    "slideshow": {
     "slide_type": "skip"
    }
   },
   "outputs": [],
   "source": [
    "options(repr.plot.width = 6, repr.plot.height = 4.5)"
   ]
  },
  {
   "cell_type": "code",
   "execution_count": null,
   "id": "1c01bab9",
   "metadata": {
    "slideshow": {
     "slide_type": "slide"
    }
   },
   "outputs": [],
   "source": [
    "# First, let's create some variables and plot them\n",
    "x <- rnorm(50)\n",
    "y <- rnorm(x)\n",
    "# Generate two pseudo-random normal vectors of x- and y-coordinates.\n",
    "# Note how, above, we used '<-' to assign to a variable. In R, the '=' is generally used for function arguments only \n",
    "\n",
    "plot(x, y) # Plot using the built-in R 'plot' function "
   ]
  },
  {
   "cell_type": "code",
   "execution_count": null,
   "id": "aab991a0",
   "metadata": {
    "slideshow": {
     "slide_type": "slide"
    }
   },
   "outputs": [],
   "source": [
    "# We can use ls() to show the variables in our workspace (and remove them with rm())\n",
    "ls()"
   ]
  },
  {
   "cell_type": "code",
   "execution_count": null,
   "id": "a8542111",
   "metadata": {
    "slideshow": {
     "slide_type": "fragment"
    }
   },
   "outputs": [],
   "source": [
    "# Importantly, we can create a dataframe as follows:\n",
    "test <- data.frame(x = x, y = x + rnorm(x))\n",
    "test  # and display it..."
   ]
  },
  {
   "cell_type": "code",
   "execution_count": null,
   "id": "ebfbec2d",
   "metadata": {
    "slideshow": {
     "slide_type": "slide"
    }
   },
   "outputs": [],
   "source": [
    "# Fit a simple linear regression and look at the analysis. \n",
    "# With y to the left of the tilde, we are modelling y dependent on x\n",
    "fm <- lm(y ~ x, data = test)\n",
    "summary(fm)"
   ]
  },
  {
   "cell_type": "code",
   "execution_count": null,
   "id": "9df96565",
   "metadata": {
    "slideshow": {
     "slide_type": "slide"
    }
   },
   "outputs": [],
   "source": [
    "# Note that, now that our variables are inside a dataframe, we now need to use a $ sign \n",
    "# to isolate that variable\n",
    "test$y"
   ]
  },
  {
   "cell_type": "code",
   "execution_count": null,
   "id": "4c2213b5",
   "metadata": {
    "slideshow": {
     "slide_type": "subslide"
    }
   },
   "outputs": [],
   "source": [
    "plot(test$x, test$y)\n",
    "\n",
    "# Note that we can also 'attach()' the data to avoid the need for dollar signs, but this can lead \n",
    "# to problems with the search path... Remember to 'detach()' to avoid the wrong object being found. "
   ]
  },
  {
   "cell_type": "code",
   "execution_count": null,
   "id": "791c85d2",
   "metadata": {
    "slideshow": {
     "slide_type": "slide"
    }
   },
   "outputs": [],
   "source": [
    "# Now let's try something more complicated... First, load the 'dplyr' library for data manipulation\n",
    "# and show the built-in 'iris' dataframe, which contains flower morphology parameters.\n",
    "library(dplyr)\n",
    "iris"
   ]
  },
  {
   "cell_type": "code",
   "execution_count": null,
   "id": "76c793c3",
   "metadata": {
    "slideshow": {
     "slide_type": "slide"
    }
   },
   "outputs": [],
   "source": [
    "# Now, try a simple t-test comparing flower sepal length between species\n",
    "t.test(iris[iris$Species == 'setosa',]$Sepal.Length, iris[iris$Species == 'virginica',]$Sepal.Length)"
   ]
  },
  {
   "cell_type": "code",
   "execution_count": null,
   "id": "d6e2ce2c",
   "metadata": {
    "slideshow": {
     "slide_type": "fragment"
    }
   },
   "outputs": [],
   "source": [
    "# If you want to know exactly what the 't.test' function does, type:\n",
    "?t.test"
   ]
  },
  {
   "cell_type": "code",
   "execution_count": null,
   "id": "7da110ef",
   "metadata": {
    "slideshow": {
     "slide_type": "fragment"
    }
   },
   "outputs": [],
   "source": [
    "# If we want to be more concise, we can assign the t-test result to a variable...\n",
    "ttest <- t.test(iris[iris$Species == 'setosa',]$Sepal.Length, iris[iris$Species == 'virginica',]$Sepal.Length)\n",
    "# ...and access the stats of interest like so:\n",
    "ttest$p.value "
   ]
  },
  {
   "cell_type": "code",
   "execution_count": null,
   "id": "af352239",
   "metadata": {
    "slideshow": {
     "slide_type": "slide"
    }
   },
   "outputs": [],
   "source": [
    "# Data types in R: vectors, lists, matrices, arrays, factors, and data frames \n",
    "vector1 <- c(1, 2, 3, 4, 5)\n",
    "vector1"
   ]
  },
  {
   "cell_type": "code",
   "execution_count": null,
   "id": "5ae50208",
   "metadata": {
    "slideshow": {
     "slide_type": "fragment"
    }
   },
   "outputs": [],
   "source": [
    "# Lists can hold different sorts of data\n",
    "list1 <- list(c(2, 5, 3), 21.3, \"apple\")\n",
    "list1 "
   ]
  },
  {
   "cell_type": "code",
   "execution_count": null,
   "id": "208f4a79",
   "metadata": {
    "slideshow": {
     "slide_type": "fragment"
    }
   },
   "outputs": [],
   "source": [
    "# Matrices and arrays are 2D and ND datasets, respectively\n",
    "matrix1 = matrix( c('a','a','b','c','b','a'), nrow = 2, ncol = 3, byrow = TRUE)\n",
    "matrix1"
   ]
  },
  {
   "cell_type": "code",
   "execution_count": null,
   "id": "d4344284",
   "metadata": {
    "slideshow": {
     "slide_type": "fragment"
    }
   },
   "outputs": [],
   "source": [
    "# ... and factors are grouping variables with associated labels (levels)\n",
    "levels(iris$Species)"
   ]
  },
  {
   "cell_type": "markdown",
   "id": "a3880b3c",
   "metadata": {
    "slideshow": {
     "slide_type": "slide"
    }
   },
   "source": [
    "# Advanced plotting with ggplot2"
   ]
  },
  {
   "cell_type": "markdown",
   "id": "33ad0dd1",
   "metadata": {
    "slideshow": {
     "slide_type": "slide"
    }
   },
   "source": [
    "## ggplot - 'grammar of graphics'\n",
    "\n",
    "## Each plot is envisioned as a series of layers - a theme, facets, scales, data\n",
    "\n",
    "## Allows for a lot of flexibility - data are easily overplotted, facetted, and grouped using 'facet' and 'aesthetic' mappings"
   ]
  },
  {
   "cell_type": "code",
   "execution_count": null,
   "id": "8d7efdcc",
   "metadata": {
    "slideshow": {
     "slide_type": "slide"
    }
   },
   "outputs": [],
   "source": [
    "# Load the ggplot2 library and re-plot our scatter plot from earlier...\n",
    "library(ggplot2)\n",
    "\n",
    "scatter_plot <- ggplot(data = test, aes(x = x, y = y))\n",
    "scatter_plot + geom_point()"
   ]
  },
  {
   "cell_type": "code",
   "execution_count": null,
   "id": "874a8631",
   "metadata": {
    "slideshow": {
     "slide_type": "subslide"
    }
   },
   "outputs": [],
   "source": [
    "# Let's try adding a regression line...\n",
    "scatter_plot + geom_point() + geom_smooth()"
   ]
  },
  {
   "cell_type": "code",
   "execution_count": null,
   "id": "01852a00",
   "metadata": {
    "slideshow": {
     "slide_type": "subslide"
    }
   },
   "outputs": [],
   "source": [
    "# That wasn't quite right. Let's specify the method for 'geom_smooth()'\n",
    "scatter_plot + geom_point() + geom_smooth(method = 'lm')"
   ]
  },
  {
   "cell_type": "code",
   "execution_count": null,
   "id": "46ab2060",
   "metadata": {
    "slideshow": {
     "slide_type": "slide"
    }
   },
   "outputs": [],
   "source": [
    "# Now let's try another common plot type - the boxplot\n",
    "box_data <- ggplot(data = iris, aes(x = Species, y = Sepal.Width, colour = Species))\n",
    "box_data + geom_boxplot()"
   ]
  },
  {
   "cell_type": "code",
   "execution_count": null,
   "id": "4d1b31ca",
   "metadata": {
    "slideshow": {
     "slide_type": "slide"
    }
   },
   "outputs": [],
   "source": [
    "# Jitter shows the raw data, \n",
    "box_data + geom_jitter(width = 0.2)"
   ]
  },
  {
   "cell_type": "code",
   "execution_count": null,
   "id": "8d04a41b",
   "metadata": {
    "slideshow": {
     "slide_type": "slide"
    }
   },
   "outputs": [],
   "source": [
    "box_data + geom_dotplot(binaxis = \"y\", stackdir = \"center\", dotsize = 0.5)"
   ]
  },
  {
   "cell_type": "code",
   "execution_count": null,
   "id": "7819fc70",
   "metadata": {
    "slideshow": {
     "slide_type": "slide"
    }
   },
   "outputs": [],
   "source": [
    "box_data + geom_violin(scale = \"area\")"
   ]
  },
  {
   "cell_type": "code",
   "execution_count": null,
   "id": "870dd6f4",
   "metadata": {
    "slideshow": {
     "slide_type": "slide"
    }
   },
   "outputs": [],
   "source": [
    "# Let's try a new dataset - 'diamonds' - to demonstrate histograms\n",
    "plot_histo <- ggplot(diamonds, aes(carat)) \n",
    "plot_histo + geom_histogram()"
   ]
  },
  {
   "cell_type": "code",
   "execution_count": null,
   "id": "76eb97d7",
   "metadata": {
    "slideshow": {
     "slide_type": "subslide"
    }
   },
   "outputs": [],
   "source": [
    "# Alternatively, display the data as a density plot\n",
    "plot_histo + geom_density()"
   ]
  },
  {
   "cell_type": "code",
   "execution_count": null,
   "id": "9b07b01c",
   "metadata": {
    "slideshow": {
     "slide_type": "subslide"
    }
   },
   "outputs": [],
   "source": [
    "# One last useful tool - the ggplot2 'facet'. Let's see what happens if we facet by the factor 'cut'\n",
    "plot_histo + geom_density() + facet_grid(. ~ cut)"
   ]
  },
  {
   "cell_type": "markdown",
   "id": "aa718778",
   "metadata": {
    "slideshow": {
     "slide_type": "slide"
    }
   },
   "source": [
    "# Exercise\n",
    "\n",
    "## Add some of the following arguments to the 'geom' calls shown earlier, outside of the aes() function: alpha (= 0-1), fill, colour, size. Set any of these equal to a factor variable inside aes() to cause them vary by group  \n",
    "\n",
    "## Try adding (literally '+') these layers to the previous plots, and see what happens:\n",
    "\n",
    "## theme_bw(), theme_classic()  *Alternatives to ggplot's grey theme* \n",
    "\n",
    "## scale_colour_viridis_d()  *A colourblind-friendly colour scale*  "
   ]
  },
  {
   "cell_type": "markdown",
   "id": "b7d1d466",
   "metadata": {
    "slideshow": {
     "slide_type": "slide"
    }
   },
   "source": [
    "# Summary\n",
    "\n",
    "## R has several advantages over SPSS: it's open-source, lightweight, flexible, and easily scriptable - for better reproducibility.\n",
    "\n",
    "## It has a large and engaged community, plus packages and features that are absent from most commercial software - e.g. plotting geospatial data.\n",
    "\n",
    "## It is a competitor with Python, but is better-suited to producing statistical models or beautiful data visualisations, Python is more useful for data science and machine-learning applications.\n"
   ]
  }
 ],
 "metadata": {
  "celltoolbar": "Slideshow",
  "kernelspec": {
   "display_name": "R",
   "language": "R",
   "name": "ir"
  },
  "language_info": {
   "codemirror_mode": "r",
   "file_extension": ".r",
   "mimetype": "text/x-r-source",
   "name": "R",
   "pygments_lexer": "r",
   "version": "3.6.1"
  }
 },
 "nbformat": 4,
 "nbformat_minor": 5
}
