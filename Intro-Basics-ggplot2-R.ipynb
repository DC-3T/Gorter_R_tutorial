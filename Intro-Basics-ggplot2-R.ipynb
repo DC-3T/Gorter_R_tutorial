{
 "cells": [
  {
   "cell_type": "markdown",
   "id": "ac8aca5c",
   "metadata": {
    "slideshow": {
     "slide_type": "slide"
    }
   },
   "source": [
    "# The A to Z of R - From basic commands to beautiful plots with ggplot"
   ]
  },
  {
   "cell_type": "markdown",
   "id": "60b1ba6e",
   "metadata": {
    "slideshow": {
     "slide_type": "slide"
    }
   },
   "source": [
    "## The aim of this presentation is to introduce you to the basics of the R programming language.\n",
    "\n",
    "## We will cover:\n",
    "\n",
    "## *The absolute basics of R - assigning variables, creating dataframes, simple functions;*\n",
    "\n",
    "## *The 'grammar of graphics' - beautiful plots created with ggplot2; and*\n",
    "\n",
    "## *Correlations and correlograms*"
   ]
  },
  {
   "cell_type": "markdown",
   "id": "70ce9216",
   "metadata": {
    "slideshow": {
     "slide_type": "slide"
    }
   },
   "source": [
    "# **The R 'starter kit'**\n",
    "\n",
    "## What you will need:\n",
    "\n",
    "## A version of R, downloaded from https://cran.r-project.org/; and\n",
    "\n",
    "## Some kind of IDE - RStudio comes highly recommended, but platforms such as PyCharm and Atom also support R. You can also create R environments with Anaconda\n",
    "\n",
    "## **Optional extras:** Tools like Shiny allow building of webapps, while Markdown offers an attractive notebook interface "
   ]
  },
  {
   "cell_type": "code",
   "execution_count": 1,
   "id": "62cdd4ed",
   "metadata": {
    "slideshow": {
     "slide_type": "skip"
    }
   },
   "outputs": [],
   "source": [
    "options(repr.plot.width = 6, repr.plot.height = 4.5)"
   ]
  },
  {
   "cell_type": "code",
   "execution_count": 2,
   "id": "1c01bab9",
   "metadata": {
    "slideshow": {
     "slide_type": "slide"
    }
   },
   "outputs": [
    {
     "data": {
      "image/png": "[encoded data removed]",
      "text/plain": [
       "plot without title"
      ]
     },
     "metadata": {},
     "output_type": "display_data"
    }
   ],
   "source": [
    "# First, let's create some variables and plot them\n",
    "x <- rnorm(50)\n",
    "y <- rnorm(x)\n",
    "# Generate two pseudo-random normal vectors of x- and y-coordinates.\n",
    "# Note how, above, we used '<-' to assign to a variable. In R, the '=' is generally used for function arguments only \n",
    "\n",
    "plot(x, y) # Plot using the built-in R 'plot' function "
   ]
  },
  {
   "cell_type": "code",
   "execution_count": 3,
   "id": "aab991a0",
   "metadata": {
    "slideshow": {
     "slide_type": "slide"
    }
   },
   "outputs": [
    {
     "data": {
      "text/html": [
       "<ol class=list-inline>\n",
       "\t<li>'x'</li>\n",
       "\t<li>'y'</li>\n",
       "</ol>\n"
      ],
      "text/latex": [
       "\\begin{enumerate*}\n",
       "\\item 'x'\n",
       "\\item 'y'\n",
       "\\end{enumerate*}\n"
      ],
      "text/markdown": [
       "1. 'x'\n",
       "2. 'y'\n",
       "\n",
       "\n"
      ],
      "text/plain": [
       "[1] \"x\" \"y\""
      ]
     },
     "metadata": {},
     "output_type": "display_data"
    },
    {
     "data": {
      "text/html": [
       "<table>\n",
       "<thead><tr><th scope=col>x</th><th scope=col>y</th></tr></thead>\n",
       "<tbody>\n",
       "\t<tr><td>-0.44531991</td><td>-0.57314864</td></tr>\n",
       "\t<tr><td>-1.64460276</td><td>-1.44764931</td></tr>\n",
       "\t<tr><td> 0.73280084</td><td> 0.78537622</td></tr>\n",
       "\t<tr><td>-0.28770335</td><td>-2.87848448</td></tr>\n",
       "\t<tr><td>-1.34119490</td><td> 1.26997841</td></tr>\n",
       "\t<tr><td>-0.98297708</td><td>-2.19425485</td></tr>\n",
       "\t<tr><td> 0.53001226</td><td> 0.54472735</td></tr>\n",
       "\t<tr><td> 0.70912169</td><td>-0.99768989</td></tr>\n",
       "\t<tr><td> 1.95688549</td><td> 2.06512100</td></tr>\n",
       "\t<tr><td> 0.56099286</td><td> 0.37992655</td></tr>\n",
       "\t<tr><td>-0.21706370</td><td> 0.18645482</td></tr>\n",
       "\t<tr><td> 1.38985244</td><td> 1.49889076</td></tr>\n",
       "\t<tr><td> 1.39771178</td><td> 1.86842390</td></tr>\n",
       "\t<tr><td>-1.96306790</td><td>-1.34462796</td></tr>\n",
       "\t<tr><td> 2.28595638</td><td> 0.45217764</td></tr>\n",
       "\t<tr><td>-0.02223451</td><td>-0.07654591</td></tr>\n",
       "\t<tr><td>-1.55807929</td><td>-2.32943114</td></tr>\n",
       "\t<tr><td> 0.14842944</td><td> 0.32839173</td></tr>\n",
       "\t<tr><td>-0.44959413</td><td>-0.82713139</td></tr>\n",
       "\t<tr><td> 0.25196996</td><td> 1.25219363</td></tr>\n",
       "\t<tr><td>-0.01506662</td><td> 0.58739446</td></tr>\n",
       "\t<tr><td>-1.04951777</td><td>-0.77965698</td></tr>\n",
       "\t<tr><td>-0.19517295</td><td> 1.46903153</td></tr>\n",
       "\t<tr><td> 1.02138950</td><td> 1.90437999</td></tr>\n",
       "\t<tr><td>-0.21371403</td><td>-1.12395102</td></tr>\n",
       "\t<tr><td> 0.96449871</td><td> 0.73223158</td></tr>\n",
       "\t<tr><td>-2.12086972</td><td>-3.52903235</td></tr>\n",
       "\t<tr><td> 0.99918419</td><td> 1.25476684</td></tr>\n",
       "\t<tr><td> 0.69488376</td><td> 1.42375951</td></tr>\n",
       "\t<tr><td>-0.49312940</td><td>-0.41922735</td></tr>\n",
       "\t<tr><td>-0.43999468</td><td>-0.97298505</td></tr>\n",
       "\t<tr><td> 0.75248753</td><td> 0.37341660</td></tr>\n",
       "\t<tr><td>-2.50448661</td><td>-3.16530890</td></tr>\n",
       "\t<tr><td>-0.19266711</td><td>-0.17104998</td></tr>\n",
       "\t<tr><td> 0.36204100</td><td>-0.24977145</td></tr>\n",
       "\t<tr><td>-0.51820522</td><td>-0.64930436</td></tr>\n",
       "\t<tr><td>-0.34466112</td><td> 0.01731107</td></tr>\n",
       "\t<tr><td>-0.52007547</td><td>-1.00486190</td></tr>\n",
       "\t<tr><td> 1.76260436</td><td> 2.06107411</td></tr>\n",
       "\t<tr><td>-0.89740246</td><td>-1.01869105</td></tr>\n",
       "\t<tr><td>-0.35285294</td><td>-0.21801081</td></tr>\n",
       "\t<tr><td>-0.63139819</td><td>-1.45791347</td></tr>\n",
       "\t<tr><td>-0.35351766</td><td>-0.89666895</td></tr>\n",
       "\t<tr><td> 1.48160460</td><td> 0.57701256</td></tr>\n",
       "\t<tr><td> 1.59260215</td><td> 0.71953406</td></tr>\n",
       "\t<tr><td> 0.70107844</td><td> 2.20618322</td></tr>\n",
       "\t<tr><td> 0.19667360</td><td>-0.14187521</td></tr>\n",
       "\t<tr><td>-1.20100282</td><td>-1.86873727</td></tr>\n",
       "\t<tr><td>-1.41375062</td><td>-1.65188408</td></tr>\n",
       "\t<tr><td>-1.23180880</td><td>-1.39567696</td></tr>\n",
       "</tbody>\n",
       "</table>\n"
      ],
      "text/latex": [
       "\\begin{tabular}{r|ll}\n",
       " x & y\\\\\n",
       "\\hline\n",
       "\t -0.44531991 & -0.57314864\\\\\n",
       "\t -1.64460276 & -1.44764931\\\\\n",
       "\t  0.73280084 &  0.78537622\\\\\n",
       "\t -0.28770335 & -2.87848448\\\\\n",
       "\t -1.34119490 &  1.26997841\\\\\n",
       "\t -0.98297708 & -2.19425485\\\\\n",
       "\t  0.53001226 &  0.54472735\\\\\n",
       "\t  0.70912169 & -0.99768989\\\\\n",
       "\t  1.95688549 &  2.06512100\\\\\n",
       "\t  0.56099286 &  0.37992655\\\\\n",
       "\t -0.21706370 &  0.18645482\\\\\n",
       "\t  1.38985244 &  1.49889076\\\\\n",
       "\t  1.39771178 &  1.86842390\\\\\n",
       "\t -1.96306790 & -1.34462796\\\\\n",
       "\t  2.28595638 &  0.45217764\\\\\n",
       "\t -0.02223451 & -0.07654591\\\\\n",
       "\t -1.55807929 & -2.32943114\\\\\n",
       "\t  0.14842944 &  0.32839173\\\\\n",
       "\t -0.44959413 & -0.82713139\\\\\n",
       "\t  0.25196996 &  1.25219363\\\\\n",
       "\t -0.01506662 &  0.58739446\\\\\n",
       "\t -1.04951777 & -0.77965698\\\\\n",
       "\t -0.19517295 &  1.46903153\\\\\n",
       "\t  1.02138950 &  1.90437999\\\\\n",
       "\t -0.21371403 & -1.12395102\\\\\n",
       "\t  0.96449871 &  0.73223158\\\\\n",
       "\t -2.12086972 & -3.52903235\\\\\n",
       "\t  0.99918419 &  1.25476684\\\\\n",
       "\t  0.69488376 &  1.42375951\\\\\n",
       "\t -0.49312940 & -0.41922735\\\\\n",
       "\t -0.43999468 & -0.97298505\\\\\n",
       "\t  0.75248753 &  0.37341660\\\\\n",
       "\t -2.50448661 & -3.16530890\\\\\n",
       "\t -0.19266711 & -0.17104998\\\\\n",
       "\t  0.36204100 & -0.24977145\\\\\n",
       "\t -0.51820522 & -0.64930436\\\\\n",
       "\t -0.34466112 &  0.01731107\\\\\n",
       "\t -0.52007547 & -1.00486190\\\\\n",
       "\t  1.76260436 &  2.06107411\\\\\n",
       "\t -0.89740246 & -1.01869105\\\\\n",
       "\t -0.35285294 & -0.21801081\\\\\n",
       "\t -0.63139819 & -1.45791347\\\\\n",
       "\t -0.35351766 & -0.89666895\\\\\n",
       "\t  1.48160460 &  0.57701256\\\\\n",
       "\t  1.59260215 &  0.71953406\\\\\n",
       "\t  0.70107844 &  2.20618322\\\\\n",
       "\t  0.19667360 & -0.14187521\\\\\n",
       "\t -1.20100282 & -1.86873727\\\\\n",
       "\t -1.41375062 & -1.65188408\\\\\n",
       "\t -1.23180880 & -1.39567696\\\\\n",
       "\\end{tabular}\n"
      ],
      "text/markdown": [
       "\n",
       "| x | y |\n",
       "|---|---|\n",
       "| -0.44531991 | -0.57314864 |\n",
       "| -1.64460276 | -1.44764931 |\n",
       "|  0.73280084 |  0.78537622 |\n",
       "| -0.28770335 | -2.87848448 |\n",
       "| -1.34119490 |  1.26997841 |\n",
       "| -0.98297708 | -2.19425485 |\n",
       "|  0.53001226 |  0.54472735 |\n",
       "|  0.70912169 | -0.99768989 |\n",
       "|  1.95688549 |  2.06512100 |\n",
       "|  0.56099286 |  0.37992655 |\n",
       "| -0.21706370 |  0.18645482 |\n",
       "|  1.38985244 |  1.49889076 |\n",
       "|  1.39771178 |  1.86842390 |\n",
       "| -1.96306790 | -1.34462796 |\n",
       "|  2.28595638 |  0.45217764 |\n",
       "| -0.02223451 | -0.07654591 |\n",
       "| -1.55807929 | -2.32943114 |\n",
       "|  0.14842944 |  0.32839173 |\n",
       "| -0.44959413 | -0.82713139 |\n",
       "|  0.25196996 |  1.25219363 |\n",
       "| -0.01506662 |  0.58739446 |\n",
       "| -1.04951777 | -0.77965698 |\n",
       "| -0.19517295 |  1.46903153 |\n",
       "|  1.02138950 |  1.90437999 |\n",
       "| -0.21371403 | -1.12395102 |\n",
       "|  0.96449871 |  0.73223158 |\n",
       "| -2.12086972 | -3.52903235 |\n",
       "|  0.99918419 |  1.25476684 |\n",
       "|  0.69488376 |  1.42375951 |\n",
       "| -0.49312940 | -0.41922735 |\n",
       "| -0.43999468 | -0.97298505 |\n",
       "|  0.75248753 |  0.37341660 |\n",
       "| -2.50448661 | -3.16530890 |\n",
       "| -0.19266711 | -0.17104998 |\n",
       "|  0.36204100 | -0.24977145 |\n",
       "| -0.51820522 | -0.64930436 |\n",
       "| -0.34466112 |  0.01731107 |\n",
       "| -0.52007547 | -1.00486190 |\n",
       "|  1.76260436 |  2.06107411 |\n",
       "| -0.89740246 | -1.01869105 |\n",
       "| -0.35285294 | -0.21801081 |\n",
       "| -0.63139819 | -1.45791347 |\n",
       "| -0.35351766 | -0.89666895 |\n",
       "|  1.48160460 |  0.57701256 |\n",
       "|  1.59260215 |  0.71953406 |\n",
       "|  0.70107844 |  2.20618322 |\n",
       "|  0.19667360 | -0.14187521 |\n",
       "| -1.20100282 | -1.86873727 |\n",
       "| -1.41375062 | -1.65188408 |\n",
       "| -1.23180880 | -1.39567696 |\n",
       "\n"
      ],
      "text/plain": [
       "   x           y          \n",
       "1  -0.44531991 -0.57314864\n",
       "2  -1.64460276 -1.44764931\n",
       "3   0.73280084  0.78537622\n",
       "4  -0.28770335 -2.87848448\n",
       "5  -1.34119490  1.26997841\n",
       "6  -0.98297708 -2.19425485\n",
       "7   0.53001226  0.54472735\n",
       "8   0.70912169 -0.99768989\n",
       "9   1.95688549  2.06512100\n",
       "10  0.56099286  0.37992655\n",
       "11 -0.21706370  0.18645482\n",
       "12  1.38985244  1.49889076\n",
       "13  1.39771178  1.86842390\n",
       "14 -1.96306790 -1.34462796\n",
       "15  2.28595638  0.45217764\n",
       "16 -0.02223451 -0.07654591\n",
       "17 -1.55807929 -2.32943114\n",
       "18  0.14842944  0.32839173\n",
       "19 -0.44959413 -0.82713139\n",
       "20  0.25196996  1.25219363\n",
       "21 -0.01506662  0.58739446\n",
       "22 -1.04951777 -0.77965698\n",
       "23 -0.19517295  1.46903153\n",
       "24  1.02138950  1.90437999\n",
       "25 -0.21371403 -1.12395102\n",
       "26  0.96449871  0.73223158\n",
       "27 -2.12086972 -3.52903235\n",
       "28  0.99918419  1.25476684\n",
       "29  0.69488376  1.42375951\n",
       "30 -0.49312940 -0.41922735\n",
       "31 -0.43999468 -0.97298505\n",
       "32  0.75248753  0.37341660\n",
       "33 -2.50448661 -3.16530890\n",
       "34 -0.19266711 -0.17104998\n",
       "35  0.36204100 -0.24977145\n",
       "36 -0.51820522 -0.64930436\n",
       "37 -0.34466112  0.01731107\n",
       "38 -0.52007547 -1.00486190\n",
       "39  1.76260436  2.06107411\n",
       "40 -0.89740246 -1.01869105\n",
       "41 -0.35285294 -0.21801081\n",
       "42 -0.63139819 -1.45791347\n",
       "43 -0.35351766 -0.89666895\n",
       "44  1.48160460  0.57701256\n",
       "45  1.59260215  0.71953406\n",
       "46  0.70107844  2.20618322\n",
       "47  0.19667360 -0.14187521\n",
       "48 -1.20100282 -1.86873727\n",
       "49 -1.41375062 -1.65188408\n",
       "50 -1.23180880 -1.39567696"
      ]
     },
     "metadata": {},
     "output_type": "display_data"
    }
   ],
   "source": [
    "# We can use ls() to show the variables in our workspace (and remove them with rm())\n",
    "ls()\n",
    "\n",
    "# Importantly, we can create a dataframe as follows:\n",
    "test <- data.frame(x = x, y = x + rnorm(x))\n",
    "test  # and display it..."
   ]
  },
  {
   "cell_type": "code",
   "execution_count": 4,
   "id": "ebfbec2d",
   "metadata": {
    "slideshow": {
     "slide_type": "slide"
    }
   },
   "outputs": [
    {
     "data": {
      "text/plain": [
       "\n",
       "Call:\n",
       "lm(formula = y ~ x, data = test)\n",
       "\n",
       "Residuals:\n",
       "     Min       1Q   Median       3Q      Max \n",
       "-2.46394 -0.46883  0.00312  0.39368  2.74032 \n",
       "\n",
       "Coefficients:\n",
       "            Estimate Std. Error t value Pr(>|t|)    \n",
       "(Intercept)  -0.1262     0.1257  -1.004     0.32    \n",
       "x             1.0022     0.1157   8.658 2.27e-11 ***\n",
       "---\n",
       "Signif. codes:  0 '***' 0.001 '**' 0.01 '*' 0.05 '.' 0.1 ' ' 1\n",
       "\n",
       "Residual standard error: 0.8873 on 48 degrees of freedom\n",
       "Multiple R-squared:  0.6096,\tAdjusted R-squared:  0.6015 \n",
       "F-statistic: 74.97 on 1 and 48 DF,  p-value: 2.27e-11\n"
      ]
     },
     "metadata": {},
     "output_type": "display_data"
    }
   ],
   "source": [
    "# Fit a simple linear regression and look at the analysis. \n",
    "# With y to the left of the tilde, we are modelling y dependent on x\n",
    "fm <- lm(y ~ x, data = test)\n",
    "summary(fm)"
   ]
  },
  {
   "cell_type": "code",
   "execution_count": 5,
   "id": "9df96565",
   "metadata": {
    "slideshow": {
     "slide_type": "slide"
    }
   },
   "outputs": [
    {
     "data": {
      "text/html": [
       "<ol class=list-inline>\n",
       "\t<li>-0.573148638671748</li>\n",
       "\t<li>-1.44764930951801</li>\n",
       "\t<li>0.785376222740625</li>\n",
       "\t<li>-2.87848448010603</li>\n",
       "\t<li>1.26997841157278</li>\n",
       "\t<li>-2.19425484797126</li>\n",
       "\t<li>0.544727347260202</li>\n",
       "\t<li>-0.997689892148328</li>\n",
       "\t<li>2.06512099658423</li>\n",
       "\t<li>0.379926550776573</li>\n",
       "\t<li>0.186454817989186</li>\n",
       "\t<li>1.49889076089452</li>\n",
       "\t<li>1.86842390206679</li>\n",
       "\t<li>-1.34462795871519</li>\n",
       "\t<li>0.452177642182877</li>\n",
       "\t<li>-0.0765459120193206</li>\n",
       "\t<li>-2.32943113634918</li>\n",
       "\t<li>0.328391728164981</li>\n",
       "\t<li>-0.827131391446436</li>\n",
       "\t<li>1.25219362628678</li>\n",
       "\t<li>0.587394460555797</li>\n",
       "\t<li>-0.779656978861705</li>\n",
       "\t<li>1.46903152588026</li>\n",
       "\t<li>1.90437999385456</li>\n",
       "\t<li>-1.12395101724658</li>\n",
       "\t<li>0.732231581119831</li>\n",
       "\t<li>-3.52903235383844</li>\n",
       "\t<li>1.2547668355203</li>\n",
       "\t<li>1.42375951442687</li>\n",
       "\t<li>-0.419227353430057</li>\n",
       "\t<li>-0.972985048507731</li>\n",
       "\t<li>0.373416597333776</li>\n",
       "\t<li>-3.16530889959974</li>\n",
       "\t<li>-0.171049984626581</li>\n",
       "\t<li>-0.249771454337667</li>\n",
       "\t<li>-0.649304360412277</li>\n",
       "\t<li>0.0173110697831379</li>\n",
       "\t<li>-1.00486189578037</li>\n",
       "\t<li>2.06107411080447</li>\n",
       "\t<li>-1.01869104627183</li>\n",
       "\t<li>-0.218010811378092</li>\n",
       "\t<li>-1.45791347094552</li>\n",
       "\t<li>-0.89666894923363</li>\n",
       "\t<li>0.577012559559127</li>\n",
       "\t<li>0.719534055701241</li>\n",
       "\t<li>2.20618322352739</li>\n",
       "\t<li>-0.141875206277098</li>\n",
       "\t<li>-1.86873726867124</li>\n",
       "\t<li>-1.651884082693</li>\n",
       "\t<li>-1.39567696417832</li>\n",
       "</ol>\n"
      ],
      "text/latex": [
       "\\begin{enumerate*}\n",
       "\\item -0.573148638671748\n",
       "\\item -1.44764930951801\n",
       "\\item 0.785376222740625\n",
       "\\item -2.87848448010603\n",
       "\\item 1.26997841157278\n",
       "\\item -2.19425484797126\n",
       "\\item 0.544727347260202\n",
       "\\item -0.997689892148328\n",
       "\\item 2.06512099658423\n",
       "\\item 0.379926550776573\n",
       "\\item 0.186454817989186\n",
       "\\item 1.49889076089452\n",
       "\\item 1.86842390206679\n",
       "\\item -1.34462795871519\n",
       "\\item 0.452177642182877\n",
       "\\item -0.0765459120193206\n",
       "\\item -2.32943113634918\n",
       "\\item 0.328391728164981\n",
       "\\item -0.827131391446436\n",
       "\\item 1.25219362628678\n",
       "\\item 0.587394460555797\n",
       "\\item -0.779656978861705\n",
       "\\item 1.46903152588026\n",
       "\\item 1.90437999385456\n",
       "\\item -1.12395101724658\n",
       "\\item 0.732231581119831\n",
       "\\item -3.52903235383844\n",
       "\\item 1.2547668355203\n",
       "\\item 1.42375951442687\n",
       "\\item -0.419227353430057\n",
       "\\item -0.972985048507731\n",
       "\\item 0.373416597333776\n",
       "\\item -3.16530889959974\n",
       "\\item -0.171049984626581\n",
       "\\item -0.249771454337667\n",
       "\\item -0.649304360412277\n",
       "\\item 0.0173110697831379\n",
       "\\item -1.00486189578037\n",
       "\\item 2.06107411080447\n",
       "\\item -1.01869104627183\n",
       "\\item -0.218010811378092\n",
       "\\item -1.45791347094552\n",
       "\\item -0.89666894923363\n",
       "\\item 0.577012559559127\n",
       "\\item 0.719534055701241\n",
       "\\item 2.20618322352739\n",
       "\\item -0.141875206277098\n",
       "\\item -1.86873726867124\n",
       "\\item -1.651884082693\n",
       "\\item -1.39567696417832\n",
       "\\end{enumerate*}\n"
      ],
      "text/markdown": [
       "1. -0.573148638671748\n",
       "2. -1.44764930951801\n",
       "3. 0.785376222740625\n",
       "4. -2.87848448010603\n",
       "5. 1.26997841157278\n",
       "6. -2.19425484797126\n",
       "7. 0.544727347260202\n",
       "8. -0.997689892148328\n",
       "9. 2.06512099658423\n",
       "10. 0.379926550776573\n",
       "11. 0.186454817989186\n",
       "12. 1.49889076089452\n",
       "13. 1.86842390206679\n",
       "14. -1.34462795871519\n",
       "15. 0.452177642182877\n",
       "16. -0.0765459120193206\n",
       "17. -2.32943113634918\n",
       "18. 0.328391728164981\n",
       "19. -0.827131391446436\n",
       "20. 1.25219362628678\n",
       "21. 0.587394460555797\n",
       "22. -0.779656978861705\n",
       "23. 1.46903152588026\n",
       "24. 1.90437999385456\n",
       "25. -1.12395101724658\n",
       "26. 0.732231581119831\n",
       "27. -3.52903235383844\n",
       "28. 1.2547668355203\n",
       "29. 1.42375951442687\n",
       "30. -0.419227353430057\n",
       "31. -0.972985048507731\n",
       "32. 0.373416597333776\n",
       "33. -3.16530889959974\n",
       "34. -0.171049984626581\n",
       "35. -0.249771454337667\n",
       "36. -0.649304360412277\n",
       "37. 0.0173110697831379\n",
       "38. -1.00486189578037\n",
       "39. 2.06107411080447\n",
       "40. -1.01869104627183\n",
       "41. -0.218010811378092\n",
       "42. -1.45791347094552\n",
       "43. -0.89666894923363\n",
       "44. 0.577012559559127\n",
       "45. 0.719534055701241\n",
       "46. 2.20618322352739\n",
       "47. -0.141875206277098\n",
       "48. -1.86873726867124\n",
       "49. -1.651884082693\n",
       "50. -1.39567696417832\n",
       "\n",
       "\n"
      ],
      "text/plain": [
       " [1] -0.57314864 -1.44764931  0.78537622 -2.87848448  1.26997841 -2.19425485\n",
       " [7]  0.54472735 -0.99768989  2.06512100  0.37992655  0.18645482  1.49889076\n",
       "[13]  1.86842390 -1.34462796  0.45217764 -0.07654591 -2.32943114  0.32839173\n",
       "[19] -0.82713139  1.25219363  0.58739446 -0.77965698  1.46903153  1.90437999\n",
       "[25] -1.12395102  0.73223158 -3.52903235  1.25476684  1.42375951 -0.41922735\n",
       "[31] -0.97298505  0.37341660 -3.16530890 -0.17104998 -0.24977145 -0.64930436\n",
       "[37]  0.01731107 -1.00486190  2.06107411 -1.01869105 -0.21801081 -1.45791347\n",
       "[43] -0.89666895  0.57701256  0.71953406  2.20618322 -0.14187521 -1.86873727\n",
       "[49] -1.65188408 -1.39567696"
      ]
     },
     "metadata": {},
     "output_type": "display_data"
    }
   ],
   "source": [
    "# Note that, now that our variables are inside a dataframe, we now need to use a $ sign \n",
    "# to isolate that variable\n",
    "test$y"
   ]
  },
  {
   "cell_type": "code",
   "execution_count": 6,
   "id": "4c2213b5",
   "metadata": {
    "slideshow": {
     "slide_type": "subslide"
    }
   },
   "outputs": [
    {
     "data": {
      "image/png": "[encoded data removed]",
      "text/plain": [
       "plot without title"
      ]
     },
     "metadata": {},
     "output_type": "display_data"
    }
   ],
   "source": [
    "plot(test$x, test$y)\n",
    "\n",
    "# Note that we can also 'attach()' the data to avoid the need for dollar signs, but this can lead \n",
    "# to problems with the search path... Remember to 'detach()' to avoid the wrong object being found. "
   ]
  },
  {
   "cell_type": "code",
   "execution_count": 7,
   "id": "791c85d2",
   "metadata": {
    "slideshow": {
     "slide_type": "slide"
    }
   },
   "outputs": [
    {
     "name": "stderr",
     "output_type": "stream",
     "text": [
      "\n",
      "Attaching package: 'dplyr'\n",
      "\n",
      "The following objects are masked from 'package:stats':\n",
      "\n",
      "    filter, lag\n",
      "\n",
      "The following objects are masked from 'package:base':\n",
      "\n",
      "    intersect, setdiff, setequal, union\n",
      "\n"
     ]
    },
    {
     "data": {
      "text/html": [
       "<table>\n",
       "<thead><tr><th scope=col>Sepal.Length</th><th scope=col>Sepal.Width</th><th scope=col>Petal.Length</th><th scope=col>Petal.Width</th><th scope=col>Species</th></tr></thead>\n",
       "<tbody>\n",
       "\t<tr><td>5.1   </td><td>3.5   </td><td>1.4   </td><td>0.2   </td><td>setosa</td></tr>\n",
       "\t<tr><td>4.9   </td><td>3.0   </td><td>1.4   </td><td>0.2   </td><td>setosa</td></tr>\n",
       "\t<tr><td>4.7   </td><td>3.2   </td><td>1.3   </td><td>0.2   </td><td>setosa</td></tr>\n",
       "\t<tr><td>4.6   </td><td>3.1   </td><td>1.5   </td><td>0.2   </td><td>setosa</td></tr>\n",
       "\t<tr><td>5.0   </td><td>3.6   </td><td>1.4   </td><td>0.2   </td><td>setosa</td></tr>\n",
       "\t<tr><td>5.4   </td><td>3.9   </td><td>1.7   </td><td>0.4   </td><td>setosa</td></tr>\n",
       "\t<tr><td>4.6   </td><td>3.4   </td><td>1.4   </td><td>0.3   </td><td>setosa</td></tr>\n",
       "\t<tr><td>5.0   </td><td>3.4   </td><td>1.5   </td><td>0.2   </td><td>setosa</td></tr>\n",
       "\t<tr><td>4.4   </td><td>2.9   </td><td>1.4   </td><td>0.2   </td><td>setosa</td></tr>\n",
       "\t<tr><td>4.9   </td><td>3.1   </td><td>1.5   </td><td>0.1   </td><td>setosa</td></tr>\n",
       "\t<tr><td>5.4   </td><td>3.7   </td><td>1.5   </td><td>0.2   </td><td>setosa</td></tr>\n",
       "\t<tr><td>4.8   </td><td>3.4   </td><td>1.6   </td><td>0.2   </td><td>setosa</td></tr>\n",
       "\t<tr><td>4.8   </td><td>3.0   </td><td>1.4   </td><td>0.1   </td><td>setosa</td></tr>\n",
       "\t<tr><td>4.3   </td><td>3.0   </td><td>1.1   </td><td>0.1   </td><td>setosa</td></tr>\n",
       "\t<tr><td>5.8   </td><td>4.0   </td><td>1.2   </td><td>0.2   </td><td>setosa</td></tr>\n",
       "\t<tr><td>5.7   </td><td>4.4   </td><td>1.5   </td><td>0.4   </td><td>setosa</td></tr>\n",
       "\t<tr><td>5.4   </td><td>3.9   </td><td>1.3   </td><td>0.4   </td><td>setosa</td></tr>\n",
       "\t<tr><td>5.1   </td><td>3.5   </td><td>1.4   </td><td>0.3   </td><td>setosa</td></tr>\n",
       "\t<tr><td>5.7   </td><td>3.8   </td><td>1.7   </td><td>0.3   </td><td>setosa</td></tr>\n",
       "\t<tr><td>5.1   </td><td>3.8   </td><td>1.5   </td><td>0.3   </td><td>setosa</td></tr>\n",
       "\t<tr><td>5.4   </td><td>3.4   </td><td>1.7   </td><td>0.2   </td><td>setosa</td></tr>\n",
       "\t<tr><td>5.1   </td><td>3.7   </td><td>1.5   </td><td>0.4   </td><td>setosa</td></tr>\n",
       "\t<tr><td>4.6   </td><td>3.6   </td><td>1.0   </td><td>0.2   </td><td>setosa</td></tr>\n",
       "\t<tr><td>5.1   </td><td>3.3   </td><td>1.7   </td><td>0.5   </td><td>setosa</td></tr>\n",
       "\t<tr><td>4.8   </td><td>3.4   </td><td>1.9   </td><td>0.2   </td><td>setosa</td></tr>\n",
       "\t<tr><td>5.0   </td><td>3.0   </td><td>1.6   </td><td>0.2   </td><td>setosa</td></tr>\n",
       "\t<tr><td>5.0   </td><td>3.4   </td><td>1.6   </td><td>0.4   </td><td>setosa</td></tr>\n",
       "\t<tr><td>5.2   </td><td>3.5   </td><td>1.5   </td><td>0.2   </td><td>setosa</td></tr>\n",
       "\t<tr><td>5.2   </td><td>3.4   </td><td>1.4   </td><td>0.2   </td><td>setosa</td></tr>\n",
       "\t<tr><td>4.7   </td><td>3.2   </td><td>1.6   </td><td>0.2   </td><td>setosa</td></tr>\n",
       "\t<tr><td>...</td><td>...</td><td>...</td><td>...</td><td>...</td></tr>\n",
       "\t<tr><td>6.9      </td><td>3.2      </td><td>5.7      </td><td>2.3      </td><td>virginica</td></tr>\n",
       "\t<tr><td>5.6      </td><td>2.8      </td><td>4.9      </td><td>2.0      </td><td>virginica</td></tr>\n",
       "\t<tr><td>7.7      </td><td>2.8      </td><td>6.7      </td><td>2.0      </td><td>virginica</td></tr>\n",
       "\t<tr><td>6.3      </td><td>2.7      </td><td>4.9      </td><td>1.8      </td><td>virginica</td></tr>\n",
       "\t<tr><td>6.7      </td><td>3.3      </td><td>5.7      </td><td>2.1      </td><td>virginica</td></tr>\n",
       "\t<tr><td>7.2      </td><td>3.2      </td><td>6.0      </td><td>1.8      </td><td>virginica</td></tr>\n",
       "\t<tr><td>6.2      </td><td>2.8      </td><td>4.8      </td><td>1.8      </td><td>virginica</td></tr>\n",
       "\t<tr><td>6.1      </td><td>3.0      </td><td>4.9      </td><td>1.8      </td><td>virginica</td></tr>\n",
       "\t<tr><td>6.4      </td><td>2.8      </td><td>5.6      </td><td>2.1      </td><td>virginica</td></tr>\n",
       "\t<tr><td>7.2      </td><td>3.0      </td><td>5.8      </td><td>1.6      </td><td>virginica</td></tr>\n",
       "\t<tr><td>7.4      </td><td>2.8      </td><td>6.1      </td><td>1.9      </td><td>virginica</td></tr>\n",
       "\t<tr><td>7.9      </td><td>3.8      </td><td>6.4      </td><td>2.0      </td><td>virginica</td></tr>\n",
       "\t<tr><td>6.4      </td><td>2.8      </td><td>5.6      </td><td>2.2      </td><td>virginica</td></tr>\n",
       "\t<tr><td>6.3      </td><td>2.8      </td><td>5.1      </td><td>1.5      </td><td>virginica</td></tr>\n",
       "\t<tr><td>6.1      </td><td>2.6      </td><td>5.6      </td><td>1.4      </td><td>virginica</td></tr>\n",
       "\t<tr><td>7.7      </td><td>3.0      </td><td>6.1      </td><td>2.3      </td><td>virginica</td></tr>\n",
       "\t<tr><td>6.3      </td><td>3.4      </td><td>5.6      </td><td>2.4      </td><td>virginica</td></tr>\n",
       "\t<tr><td>6.4      </td><td>3.1      </td><td>5.5      </td><td>1.8      </td><td>virginica</td></tr>\n",
       "\t<tr><td>6.0      </td><td>3.0      </td><td>4.8      </td><td>1.8      </td><td>virginica</td></tr>\n",
       "\t<tr><td>6.9      </td><td>3.1      </td><td>5.4      </td><td>2.1      </td><td>virginica</td></tr>\n",
       "\t<tr><td>6.7      </td><td>3.1      </td><td>5.6      </td><td>2.4      </td><td>virginica</td></tr>\n",
       "\t<tr><td>6.9      </td><td>3.1      </td><td>5.1      </td><td>2.3      </td><td>virginica</td></tr>\n",
       "\t<tr><td>5.8      </td><td>2.7      </td><td>5.1      </td><td>1.9      </td><td>virginica</td></tr>\n",
       "\t<tr><td>6.8      </td><td>3.2      </td><td>5.9      </td><td>2.3      </td><td>virginica</td></tr>\n",
       "\t<tr><td>6.7      </td><td>3.3      </td><td>5.7      </td><td>2.5      </td><td>virginica</td></tr>\n",
       "\t<tr><td>6.7      </td><td>3.0      </td><td>5.2      </td><td>2.3      </td><td>virginica</td></tr>\n",
       "\t<tr><td>6.3      </td><td>2.5      </td><td>5.0      </td><td>1.9      </td><td>virginica</td></tr>\n",
       "\t<tr><td>6.5      </td><td>3.0      </td><td>5.2      </td><td>2.0      </td><td>virginica</td></tr>\n",
       "\t<tr><td>6.2      </td><td>3.4      </td><td>5.4      </td><td>2.3      </td><td>virginica</td></tr>\n",
       "\t<tr><td>5.9      </td><td>3.0      </td><td>5.1      </td><td>1.8      </td><td>virginica</td></tr>\n",
       "</tbody>\n",
       "</table>\n"
      ],
      "text/latex": [
       "\\begin{tabular}{r|lllll}\n",
       " Sepal.Length & Sepal.Width & Petal.Length & Petal.Width & Species\\\\\n",
       "\\hline\n",
       "\t 5.1    & 3.5    & 1.4    & 0.2    & setosa\\\\\n",
       "\t 4.9    & 3.0    & 1.4    & 0.2    & setosa\\\\\n",
       "\t 4.7    & 3.2    & 1.3    & 0.2    & setosa\\\\\n",
       "\t 4.6    & 3.1    & 1.5    & 0.2    & setosa\\\\\n",
       "\t 5.0    & 3.6    & 1.4    & 0.2    & setosa\\\\\n",
       "\t 5.4    & 3.9    & 1.7    & 0.4    & setosa\\\\\n",
       "\t 4.6    & 3.4    & 1.4    & 0.3    & setosa\\\\\n",
       "\t 5.0    & 3.4    & 1.5    & 0.2    & setosa\\\\\n",
       "\t 4.4    & 2.9    & 1.4    & 0.2    & setosa\\\\\n",
       "\t 4.9    & 3.1    & 1.5    & 0.1    & setosa\\\\\n",
       "\t 5.4    & 3.7    & 1.5    & 0.2    & setosa\\\\\n",
       "\t 4.8    & 3.4    & 1.6    & 0.2    & setosa\\\\\n",
       "\t 4.8    & 3.0    & 1.4    & 0.1    & setosa\\\\\n",
       "\t 4.3    & 3.0    & 1.1    & 0.1    & setosa\\\\\n",
       "\t 5.8    & 4.0    & 1.2    & 0.2    & setosa\\\\\n",
       "\t 5.7    & 4.4    & 1.5    & 0.4    & setosa\\\\\n",
       "\t 5.4    & 3.9    & 1.3    & 0.4    & setosa\\\\\n",
       "\t 5.1    & 3.5    & 1.4    & 0.3    & setosa\\\\\n",
       "\t 5.7    & 3.8    & 1.7    & 0.3    & setosa\\\\\n",
       "\t 5.1    & 3.8    & 1.5    & 0.3    & setosa\\\\\n",
       "\t 5.4    & 3.4    & 1.7    & 0.2    & setosa\\\\\n",
       "\t 5.1    & 3.7    & 1.5    & 0.4    & setosa\\\\\n",
       "\t 4.6    & 3.6    & 1.0    & 0.2    & setosa\\\\\n",
       "\t 5.1    & 3.3    & 1.7    & 0.5    & setosa\\\\\n",
       "\t 4.8    & 3.4    & 1.9    & 0.2    & setosa\\\\\n",
       "\t 5.0    & 3.0    & 1.6    & 0.2    & setosa\\\\\n",
       "\t 5.0    & 3.4    & 1.6    & 0.4    & setosa\\\\\n",
       "\t 5.2    & 3.5    & 1.5    & 0.2    & setosa\\\\\n",
       "\t 5.2    & 3.4    & 1.4    & 0.2    & setosa\\\\\n",
       "\t 4.7    & 3.2    & 1.6    & 0.2    & setosa\\\\\n",
       "\t ... & ... & ... & ... & ...\\\\\n",
       "\t 6.9       & 3.2       & 5.7       & 2.3       & virginica\\\\\n",
       "\t 5.6       & 2.8       & 4.9       & 2.0       & virginica\\\\\n",
       "\t 7.7       & 2.8       & 6.7       & 2.0       & virginica\\\\\n",
       "\t 6.3       & 2.7       & 4.9       & 1.8       & virginica\\\\\n",
       "\t 6.7       & 3.3       & 5.7       & 2.1       & virginica\\\\\n",
       "\t 7.2       & 3.2       & 6.0       & 1.8       & virginica\\\\\n",
       "\t 6.2       & 2.8       & 4.8       & 1.8       & virginica\\\\\n",
       "\t 6.1       & 3.0       & 4.9       & 1.8       & virginica\\\\\n",
       "\t 6.4       & 2.8       & 5.6       & 2.1       & virginica\\\\\n",
       "\t 7.2       & 3.0       & 5.8       & 1.6       & virginica\\\\\n",
       "\t 7.4       & 2.8       & 6.1       & 1.9       & virginica\\\\\n",
       "\t 7.9       & 3.8       & 6.4       & 2.0       & virginica\\\\\n",
       "\t 6.4       & 2.8       & 5.6       & 2.2       & virginica\\\\\n",
       "\t 6.3       & 2.8       & 5.1       & 1.5       & virginica\\\\\n",
       "\t 6.1       & 2.6       & 5.6       & 1.4       & virginica\\\\\n",
       "\t 7.7       & 3.0       & 6.1       & 2.3       & virginica\\\\\n",
       "\t 6.3       & 3.4       & 5.6       & 2.4       & virginica\\\\\n",
       "\t 6.4       & 3.1       & 5.5       & 1.8       & virginica\\\\\n",
       "\t 6.0       & 3.0       & 4.8       & 1.8       & virginica\\\\\n",
       "\t 6.9       & 3.1       & 5.4       & 2.1       & virginica\\\\\n",
       "\t 6.7       & 3.1       & 5.6       & 2.4       & virginica\\\\\n",
       "\t 6.9       & 3.1       & 5.1       & 2.3       & virginica\\\\\n",
       "\t 5.8       & 2.7       & 5.1       & 1.9       & virginica\\\\\n",
       "\t 6.8       & 3.2       & 5.9       & 2.3       & virginica\\\\\n",
       "\t 6.7       & 3.3       & 5.7       & 2.5       & virginica\\\\\n",
       "\t 6.7       & 3.0       & 5.2       & 2.3       & virginica\\\\\n",
       "\t 6.3       & 2.5       & 5.0       & 1.9       & virginica\\\\\n",
       "\t 6.5       & 3.0       & 5.2       & 2.0       & virginica\\\\\n",
       "\t 6.2       & 3.4       & 5.4       & 2.3       & virginica\\\\\n",
       "\t 5.9       & 3.0       & 5.1       & 1.8       & virginica\\\\\n",
       "\\end{tabular}\n"
      ],
      "text/markdown": [
       "\n",
       "| Sepal.Length | Sepal.Width | Petal.Length | Petal.Width | Species |\n",
       "|---|---|---|---|---|\n",
       "| 5.1    | 3.5    | 1.4    | 0.2    | setosa |\n",
       "| 4.9    | 3.0    | 1.4    | 0.2    | setosa |\n",
       "| 4.7    | 3.2    | 1.3    | 0.2    | setosa |\n",
       "| 4.6    | 3.1    | 1.5    | 0.2    | setosa |\n",
       "| 5.0    | 3.6    | 1.4    | 0.2    | setosa |\n",
       "| 5.4    | 3.9    | 1.7    | 0.4    | setosa |\n",
       "| 4.6    | 3.4    | 1.4    | 0.3    | setosa |\n",
       "| 5.0    | 3.4    | 1.5    | 0.2    | setosa |\n",
       "| 4.4    | 2.9    | 1.4    | 0.2    | setosa |\n",
       "| 4.9    | 3.1    | 1.5    | 0.1    | setosa |\n",
       "| 5.4    | 3.7    | 1.5    | 0.2    | setosa |\n",
       "| 4.8    | 3.4    | 1.6    | 0.2    | setosa |\n",
       "| 4.8    | 3.0    | 1.4    | 0.1    | setosa |\n",
       "| 4.3    | 3.0    | 1.1    | 0.1    | setosa |\n",
       "| 5.8    | 4.0    | 1.2    | 0.2    | setosa |\n",
       "| 5.7    | 4.4    | 1.5    | 0.4    | setosa |\n",
       "| 5.4    | 3.9    | 1.3    | 0.4    | setosa |\n",
       "| 5.1    | 3.5    | 1.4    | 0.3    | setosa |\n",
       "| 5.7    | 3.8    | 1.7    | 0.3    | setosa |\n",
       "| 5.1    | 3.8    | 1.5    | 0.3    | setosa |\n",
       "| 5.4    | 3.4    | 1.7    | 0.2    | setosa |\n",
       "| 5.1    | 3.7    | 1.5    | 0.4    | setosa |\n",
       "| 4.6    | 3.6    | 1.0    | 0.2    | setosa |\n",
       "| 5.1    | 3.3    | 1.7    | 0.5    | setosa |\n",
       "| 4.8    | 3.4    | 1.9    | 0.2    | setosa |\n",
       "| 5.0    | 3.0    | 1.6    | 0.2    | setosa |\n",
       "| 5.0    | 3.4    | 1.6    | 0.4    | setosa |\n",
       "| 5.2    | 3.5    | 1.5    | 0.2    | setosa |\n",
       "| 5.2    | 3.4    | 1.4    | 0.2    | setosa |\n",
       "| 4.7    | 3.2    | 1.6    | 0.2    | setosa |\n",
       "| ... | ... | ... | ... | ... |\n",
       "| 6.9       | 3.2       | 5.7       | 2.3       | virginica |\n",
       "| 5.6       | 2.8       | 4.9       | 2.0       | virginica |\n",
       "| 7.7       | 2.8       | 6.7       | 2.0       | virginica |\n",
       "| 6.3       | 2.7       | 4.9       | 1.8       | virginica |\n",
       "| 6.7       | 3.3       | 5.7       | 2.1       | virginica |\n",
       "| 7.2       | 3.2       | 6.0       | 1.8       | virginica |\n",
       "| 6.2       | 2.8       | 4.8       | 1.8       | virginica |\n",
       "| 6.1       | 3.0       | 4.9       | 1.8       | virginica |\n",
       "| 6.4       | 2.8       | 5.6       | 2.1       | virginica |\n",
       "| 7.2       | 3.0       | 5.8       | 1.6       | virginica |\n",
       "| 7.4       | 2.8       | 6.1       | 1.9       | virginica |\n",
       "| 7.9       | 3.8       | 6.4       | 2.0       | virginica |\n",
       "| 6.4       | 2.8       | 5.6       | 2.2       | virginica |\n",
       "| 6.3       | 2.8       | 5.1       | 1.5       | virginica |\n",
       "| 6.1       | 2.6       | 5.6       | 1.4       | virginica |\n",
       "| 7.7       | 3.0       | 6.1       | 2.3       | virginica |\n",
       "| 6.3       | 3.4       | 5.6       | 2.4       | virginica |\n",
       "| 6.4       | 3.1       | 5.5       | 1.8       | virginica |\n",
       "| 6.0       | 3.0       | 4.8       | 1.8       | virginica |\n",
       "| 6.9       | 3.1       | 5.4       | 2.1       | virginica |\n",
       "| 6.7       | 3.1       | 5.6       | 2.4       | virginica |\n",
       "| 6.9       | 3.1       | 5.1       | 2.3       | virginica |\n",
       "| 5.8       | 2.7       | 5.1       | 1.9       | virginica |\n",
       "| 6.8       | 3.2       | 5.9       | 2.3       | virginica |\n",
       "| 6.7       | 3.3       | 5.7       | 2.5       | virginica |\n",
       "| 6.7       | 3.0       | 5.2       | 2.3       | virginica |\n",
       "| 6.3       | 2.5       | 5.0       | 1.9       | virginica |\n",
       "| 6.5       | 3.0       | 5.2       | 2.0       | virginica |\n",
       "| 6.2       | 3.4       | 5.4       | 2.3       | virginica |\n",
       "| 5.9       | 3.0       | 5.1       | 1.8       | virginica |\n",
       "\n"
      ],
      "text/plain": [
       "    Sepal.Length Sepal.Width Petal.Length Petal.Width Species  \n",
       "1   5.1          3.5         1.4          0.2         setosa   \n",
       "2   4.9          3.0         1.4          0.2         setosa   \n",
       "3   4.7          3.2         1.3          0.2         setosa   \n",
       "4   4.6          3.1         1.5          0.2         setosa   \n",
       "5   5.0          3.6         1.4          0.2         setosa   \n",
       "6   5.4          3.9         1.7          0.4         setosa   \n",
       "7   4.6          3.4         1.4          0.3         setosa   \n",
       "8   5.0          3.4         1.5          0.2         setosa   \n",
       "9   4.4          2.9         1.4          0.2         setosa   \n",
       "10  4.9          3.1         1.5          0.1         setosa   \n",
       "11  5.4          3.7         1.5          0.2         setosa   \n",
       "12  4.8          3.4         1.6          0.2         setosa   \n",
       "13  4.8          3.0         1.4          0.1         setosa   \n",
       "14  4.3          3.0         1.1          0.1         setosa   \n",
       "15  5.8          4.0         1.2          0.2         setosa   \n",
       "16  5.7          4.4         1.5          0.4         setosa   \n",
       "17  5.4          3.9         1.3          0.4         setosa   \n",
       "18  5.1          3.5         1.4          0.3         setosa   \n",
       "19  5.7          3.8         1.7          0.3         setosa   \n",
       "20  5.1          3.8         1.5          0.3         setosa   \n",
       "21  5.4          3.4         1.7          0.2         setosa   \n",
       "22  5.1          3.7         1.5          0.4         setosa   \n",
       "23  4.6          3.6         1.0          0.2         setosa   \n",
       "24  5.1          3.3         1.7          0.5         setosa   \n",
       "25  4.8          3.4         1.9          0.2         setosa   \n",
       "26  5.0          3.0         1.6          0.2         setosa   \n",
       "27  5.0          3.4         1.6          0.4         setosa   \n",
       "28  5.2          3.5         1.5          0.2         setosa   \n",
       "29  5.2          3.4         1.4          0.2         setosa   \n",
       "30  4.7          3.2         1.6          0.2         setosa   \n",
       "... ...          ...         ...          ...         ...      \n",
       "121 6.9          3.2         5.7          2.3         virginica\n",
       "122 5.6          2.8         4.9          2.0         virginica\n",
       "123 7.7          2.8         6.7          2.0         virginica\n",
       "124 6.3          2.7         4.9          1.8         virginica\n",
       "125 6.7          3.3         5.7          2.1         virginica\n",
       "126 7.2          3.2         6.0          1.8         virginica\n",
       "127 6.2          2.8         4.8          1.8         virginica\n",
       "128 6.1          3.0         4.9          1.8         virginica\n",
       "129 6.4          2.8         5.6          2.1         virginica\n",
       "130 7.2          3.0         5.8          1.6         virginica\n",
       "131 7.4          2.8         6.1          1.9         virginica\n",
       "132 7.9          3.8         6.4          2.0         virginica\n",
       "133 6.4          2.8         5.6          2.2         virginica\n",
       "134 6.3          2.8         5.1          1.5         virginica\n",
       "135 6.1          2.6         5.6          1.4         virginica\n",
       "136 7.7          3.0         6.1          2.3         virginica\n",
       "137 6.3          3.4         5.6          2.4         virginica\n",
       "138 6.4          3.1         5.5          1.8         virginica\n",
       "139 6.0          3.0         4.8          1.8         virginica\n",
       "140 6.9          3.1         5.4          2.1         virginica\n",
       "141 6.7          3.1         5.6          2.4         virginica\n",
       "142 6.9          3.1         5.1          2.3         virginica\n",
       "143 5.8          2.7         5.1          1.9         virginica\n",
       "144 6.8          3.2         5.9          2.3         virginica\n",
       "145 6.7          3.3         5.7          2.5         virginica\n",
       "146 6.7          3.0         5.2          2.3         virginica\n",
       "147 6.3          2.5         5.0          1.9         virginica\n",
       "148 6.5          3.0         5.2          2.0         virginica\n",
       "149 6.2          3.4         5.4          2.3         virginica\n",
       "150 5.9          3.0         5.1          1.8         virginica"
      ]
     },
     "metadata": {},
     "output_type": "display_data"
    }
   ],
   "source": [
    "# Now let's try something more complicated... First, load the 'dplyr' library for data manipulation\n",
    "# and show the built-in 'iris' dataframe, which contains flower morphology parameters.\n",
    "library(dplyr)\n",
    "iris"
   ]
  },
  {
   "cell_type": "code",
   "execution_count": 8,
   "id": "76c793c3",
   "metadata": {
    "slideshow": {
     "slide_type": "slide"
    }
   },
   "outputs": [
    {
     "data": {
      "text/plain": [
       "\n",
       "\tWelch Two Sample t-test\n",
       "\n",
       "data:  iris[iris$Species == \"setosa\", ]$Sepal.Length and iris[iris$Species == \"virginica\", ]$Sepal.Length\n",
       "t = -15.386, df = 76.516, p-value < 2.2e-16\n",
       "alternative hypothesis: true difference in means is not equal to 0\n",
       "95 percent confidence interval:\n",
       " -1.78676 -1.37724\n",
       "sample estimates:\n",
       "mean of x mean of y \n",
       "    5.006     6.588 \n"
      ]
     },
     "metadata": {},
     "output_type": "display_data"
    }
   ],
   "source": [
    "# Now, try a simple t-test comparing flower sepal length between species\n",
    "t.test(iris[iris$Species == 'setosa',]$Sepal.Length, iris[iris$Species == 'virginica',]$Sepal.Length)"
   ]
  },
  {
   "cell_type": "code",
   "execution_count": 9,
   "id": "d6e2ce2c",
   "metadata": {
    "slideshow": {
     "slide_type": "subslide"
    }
   },
   "outputs": [],
   "source": [
    "# If you want to know exactly what the 't.test' function does, type:\n",
    "?t.test"
   ]
  },
  {
   "cell_type": "code",
   "execution_count": 10,
   "id": "7da110ef",
   "metadata": {
    "slideshow": {
     "slide_type": "slide"
    }
   },
   "outputs": [
    {
     "data": {
      "text/html": [
       "3.96686727098562e-25"
      ],
      "text/latex": [
       "3.96686727098562e-25"
      ],
      "text/markdown": [
       "3.96686727098562e-25"
      ],
      "text/plain": [
       "[1] 3.966867e-25"
      ]
     },
     "metadata": {},
     "output_type": "display_data"
    }
   ],
   "source": [
    "# If we want to be more concise, we can assign the t-test result to a variable...\n",
    "ttest <- t.test(iris[iris$Species == 'setosa',]$Sepal.Length, iris[iris$Species == 'virginica',]$Sepal.Length)\n",
    "# ...and access the stats of interest like so:\n",
    "ttest$p.value "
   ]
  },
  {
   "cell_type": "code",
   "execution_count": 11,
   "id": "af352239",
   "metadata": {
    "slideshow": {
     "slide_type": "slide"
    }
   },
   "outputs": [],
   "source": [
    "# Data types in R: vectors, lists, matrices, arrays, factors, and data frames \n",
    "\n",
    "# Factors are grouping variables with associated labels"
   ]
  },
  {
   "cell_type": "markdown",
   "id": "a3880b3c",
   "metadata": {
    "slideshow": {
     "slide_type": "slide"
    }
   },
   "source": [
    "# Advanced plotting with ggplot2"
   ]
  },
  {
   "cell_type": "markdown",
   "id": "33ad0dd1",
   "metadata": {
    "slideshow": {
     "slide_type": "slide"
    }
   },
   "source": [
    "## ggplot - 'grammar of graphics'\n",
    "\n",
    "## Each plot is envisioned as a series of layers - a theme, facets, scales, data\n",
    "\n",
    "## Allows for a lot of flexibility - data are easily overplotted, facetted, and grouped using 'facet' and 'aesthetic' mappings"
   ]
  },
  {
   "cell_type": "code",
   "execution_count": 12,
   "id": "8d7efdcc",
   "metadata": {
    "slideshow": {
     "slide_type": "slide"
    }
   },
   "outputs": [
    {
     "data": {
      "image/png": "[encoded data removed]",
      "text/plain": [
       "plot without title"
      ]
     },
     "metadata": {},
     "output_type": "display_data"
    }
   ],
   "source": [
    "# Load the ggplot2 library and re-plot our scatter plot from earlier...\n",
    "library(ggplot2)\n",
    "\n",
    "scatter_plot <- ggplot(data = test, aes(x = x, y = y))\n",
    "scatter_plot + geom_point()"
   ]
  },
  {
   "cell_type": "code",
   "execution_count": 13,
   "id": "874a8631",
   "metadata": {
    "slideshow": {
     "slide_type": "subslide"
    }
   },
   "outputs": [
    {
     "name": "stderr",
     "output_type": "stream",
     "text": [
      "`geom_smooth()` using method = 'loess' and formula 'y ~ x'\n"
     ]
    },
    {
     "data": {
      "image/png": "[encoded data removed]",
      "text/plain": [
       "plot without title"
      ]
     },
     "metadata": {},
     "output_type": "display_data"
    }
   ],
   "source": [
    "# Let's try adding a regression line...\n",
    "scatter_plot + geom_point() + geom_smooth()"
   ]
  },
  {
   "cell_type": "code",
   "execution_count": 14,
   "id": "01852a00",
   "metadata": {
    "slideshow": {
     "slide_type": "subslide"
    }
   },
   "outputs": [
    {
     "data": {
      "image/png": "[encoded data removed]",
      "text/plain": [
       "plot without title"
      ]
     },
     "metadata": {},
     "output_type": "display_data"
    }
   ],
   "source": [
    "# That wasn't quite right. Let's specify the method for 'geom_smooth()'\n",
    "scatter_plot + geom_point() + geom_smooth(method = 'lm')"
   ]
  },
  {
   "cell_type": "code",
   "execution_count": 23,
   "id": "46ab2060",
   "metadata": {
    "slideshow": {
     "slide_type": "slide"
    }
   },
   "outputs": [
    {
     "data": {
      "image/png": "[encoded data removed]",
      "text/plain": [
       "plot without title"
      ]
     },
     "metadata": {},
     "output_type": "display_data"
    }
   ],
   "source": [
    "# Now let's try another common plot type - the boxplot\n",
    "box_data <- ggplot(data = iris, aes(x = Species, y = Sepal.Width, colour = Species))\n",
    "box_data + geom_boxplot()"
   ]
  },
  {
   "cell_type": "code",
   "execution_count": 16,
   "id": "4d1b31ca",
   "metadata": {
    "slideshow": {
     "slide_type": "slide"
    }
   },
   "outputs": [
    {
     "data": {
      "image/png": "[encoded data removed]",
      "text/plain": [
       "plot without title"
      ]
     },
     "metadata": {},
     "output_type": "display_data"
    }
   ],
   "source": [
    "# Jitter shows the raw data, \n",
    "box_data + geom_jitter(width = 0.2)"
   ]
  },
  {
   "cell_type": "code",
   "execution_count": 17,
   "id": "8d04a41b",
   "metadata": {
    "slideshow": {
     "slide_type": "slide"
    }
   },
   "outputs": [
    {
     "name": "stderr",
     "output_type": "stream",
     "text": [
      "`stat_bindot()` using `bins = 30`. Pick better value with `binwidth`.\n"
     ]
    },
    {
     "data": {
      "image/png": "[encoded data removed]",
      "text/plain": [
       "plot without title"
      ]
     },
     "metadata": {},
     "output_type": "display_data"
    }
   ],
   "source": [
    "box_data + geom_dotplot(binaxis = \"y\", stackdir = \"center\", dotsize = 0.5)"
   ]
  },
  {
   "cell_type": "code",
   "execution_count": 18,
   "id": "7819fc70",
   "metadata": {
    "slideshow": {
     "slide_type": "slide"
    }
   },
   "outputs": [
    {
     "data": {
      "image/png": "[encoded data removed]",
      "text/plain": [
       "plot without title"
      ]
     },
     "metadata": {},
     "output_type": "display_data"
    }
   ],
   "source": [
    "box_data + geom_violin(scale = \"area\")"
   ]
  },
  {
   "cell_type": "code",
   "execution_count": 19,
   "id": "870dd6f4",
   "metadata": {
    "slideshow": {
     "slide_type": "slide"
    }
   },
   "outputs": [
    {
     "name": "stderr",
     "output_type": "stream",
     "text": [
      "`stat_bin()` using `bins = 30`. Pick better value with `binwidth`.\n"
     ]
    },
    {
     "data": {
      "image/png": "[encoded data removed]",
      "text/plain": [
       "plot without title"
      ]
     },
     "metadata": {},
     "output_type": "display_data"
    }
   ],
   "source": [
    "# Let's try a new dataset - 'diamonds' - to demonstrate histograms\n",
    "plot_histo <- ggplot(diamonds, aes(carat)) \n",
    "plot_histo + geom_histogram()"
   ]
  },
  {
   "cell_type": "code",
   "execution_count": 20,
   "id": "76eb97d7",
   "metadata": {
    "slideshow": {
     "slide_type": "subslide"
    }
   },
   "outputs": [
    {
     "data": {
      "image/png": "[encoded data removed]",
      "text/plain": [
       "plot without title"
      ]
     },
     "metadata": {},
     "output_type": "display_data"
    }
   ],
   "source": [
    "# Alternatively, display the data as a density plot\n",
    "plot_histo + geom_density()"
   ]
  },
  {
   "cell_type": "code",
   "execution_count": 21,
   "id": "9b07b01c",
   "metadata": {
    "slideshow": {
     "slide_type": "subslide"
    }
   },
   "outputs": [
    {
     "data": {
      "image/png": "[encoded data removed]",
      "text/plain": [
       "plot without title"
      ]
     },
     "metadata": {},
     "output_type": "display_data"
    }
   ],
   "source": [
    "# One last useful tool - the ggplot2 'facet'. Let's see what happens if we facet by the factor 'cut'\n",
    "plot_histo + geom_density() + facet_grid(. ~ cut)"
   ]
  },
  {
   "cell_type": "markdown",
   "id": "aa718778",
   "metadata": {
    "slideshow": {
     "slide_type": "slide"
    }
   },
   "source": [
    "# Exercise\n",
    "\n",
    "## Add some of the following arguments to the 'geom' calls shown earlier, outside of the aes() function: alpha (= 0-1), fill, colour, size. Set any of these equal to a factor variable inside aes() to cause them vary by group  \n",
    "\n",
    "## Try adding (literally '+') these layers to the previous plots, and see what happens:\n",
    "\n",
    "## theme_bw(), theme_classic()  *Alternatives to ggplot's grey theme* \n",
    "\n",
    "## scale_colour_viridis_d()  *A colourblind-friendly colour scale*  "
   ]
  },
  {
   "cell_type": "markdown",
   "id": "b7d1d466",
   "metadata": {
    "slideshow": {
     "slide_type": "slide"
    }
   },
   "source": [
    "# Summary\n",
    "\n",
    "## R has several advantages over SPSS: it's open-source, lightweight, flexible, and easily scriptable - for better reproducibility.\n",
    "\n",
    "## It has a large and engaged community, plus packages and features that are absent from most commercial software - e.g. plotting geospatial data.\n",
    "\n",
    "## It is a competitor with Python, but is better-suited to producing statistical models or beautiful data visualisations, Python is more useful for data science and machine-learning applications.\n"
   ]
  }
 ],
 "metadata": {
  "celltoolbar": "Slideshow",
  "kernelspec": {
   "display_name": "R",
   "language": "R",
   "name": "ir"
  },
  "language_info": {
   "codemirror_mode": "r",
   "file_extension": ".r",
   "mimetype": "text/x-r-source",
   "name": "R",
   "pygments_lexer": "r",
   "version": "3.6.1"
  }
 },
 "nbformat": 4,
 "nbformat_minor": 5
}
